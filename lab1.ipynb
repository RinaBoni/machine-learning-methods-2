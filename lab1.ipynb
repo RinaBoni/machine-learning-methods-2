{
 "cells": [
  {
   "cell_type": "code",
   "source": [
    "# Создание массива для проверки\n",
    "import numpy as np\n",
    "\n",
    "\n",
    "mean = 165  # Средний рост\n",
    "std_dev = 10  # Стандартное отклонение\n",
    "size = 100   # Количество элементов в массиве\n",
    "\n",
    "# Генерация массива с ростом женщин\n",
    "heights = np.random.normal(mean, std_dev, size)\n",
    "\n",
    "# Округление значений до целых чисел\n",
    "heights = np.round(heights).astype(int)\n",
    "\n",
    "print(heights)\n",
    "print(type(heights))"
   ],
   "metadata": {
    "id": "8M4FBDb0NNsK",
    "outputId": "8c184b0c-9dfb-43f9-f5c6-d9d2b8577bba",
    "colab": {
     "base_uri": "https://localhost:8080/"
    }
   },
   "execution_count": null,
   "outputs": [
    {
     "output_type": "stream",
     "name": "stdout",
     "text": [
      "[161 163 173 169 164 154 161 159 184 192 173 172 153 157 159 166 175 182\n",
      " 172 165 170 155 150 181 175 180 177 170 163 168 159 169 161 161 168 160\n",
      " 157 168 171 169 153 175 169 171 147 175 151 167 164 161 158 162 170 164\n",
      " 165 168 174 161 179 160 163 156 162 158 163 165 164 171 156 175 177 162\n",
      " 173 164 173 142 176 163 164 164 157 163 167 158 133 163 159 162 159 169\n",
      " 174 152 158 161 178 146 162 169 165 149]\n",
      "<class 'numpy.ndarray'>\n"
     ]
    }
   ]
  },
  {
   "cell_type": "markdown",
   "source": [
    "### Функция для вычисления стандартного отклонения случайной величины;"
   ],
   "metadata": {
    "id": "7HTAjcHyNI_j"
   }
  },
  {
   "cell_type": "markdown",
   "source": [
    "#### Среднее значение"
   ],
   "metadata": {
    "collapsed": false
   }
  },
  {
   "cell_type": "markdown",
   "source": [
    "$$ M(X) = \\sum \\limits_{i=1}^{n} \\frac{x_i}{n} $$"
   ],
   "metadata": {
    "id": "4sGpSvZ3ug_Y"
   }
  },
  {
   "cell_type": "code",
   "source": [
    "import numpy as np\n",
    "\n",
    "def mean(x):\n",
    "  \"\"\"\n",
    "    Вычисление среднего числа по массиву\n",
    "\n",
    "    :param x: Массив\n",
    "    :type x: список, np.ndarray\n",
    "    :return: Среднее\n",
    "    :rtype: float\n",
    "  \"\"\"\n",
    "  sum = 0\n",
    "  for i in range(len(x)):\n",
    "    sum += x[i]\n",
    "  return sum / len(x)"
   ],
   "metadata": {
    "id": "vR-S7DzrR3xj"
   },
   "execution_count": null,
   "outputs": []
  },
  {
   "cell_type": "markdown",
   "source": [
    "#### Дисперсия"
   ],
   "metadata": {
    "collapsed": false
   }
  },
  {
   "cell_type": "markdown",
   "source": [
    "$$ s^2 = \\frac{1}{n} \\sum_{i=1}^{n} (x_i - \\bar{x})^2 $$"
   ],
   "metadata": {
    "collapsed": false
   }
  },
  {
   "cell_type": "code",
   "source": [
    "def variance(x: np.ndarray):\n",
    "  \"\"\"\n",
    "    Вычисление дисперсии\n",
    "\n",
    "    :param x: Массив\n",
    "    :type x: np.ndarray\n",
    "    :return: Дисперсия\n",
    "    :rtype: float\n",
    "  \"\"\"\n",
    "  mu = mean(x)\n",
    "  sum = 0\n",
    "\n",
    "  for i in range(len(x)):\n",
    "    sum += (x[i] - mu) ** 2\n",
    "  return sum / len(x)"
   ],
   "metadata": {
    "id": "H_uu6EqZVBLa"
   },
   "execution_count": null,
   "outputs": []
  },
  {
   "cell_type": "markdown",
   "source": [
    "#### Стандартное отклонение случайной величины"
   ],
   "metadata": {
    "collapsed": false
   }
  },
  {
   "cell_type": "markdown",
   "source": [
    "$$ s = \\sqrt{\\frac{1}{n} \\sum_{i=1}^{n} (x_i - \\bar{x})^2} $$"
   ],
   "metadata": {
    "collapsed": false
   }
  },
  {
   "cell_type": "code",
   "source": [
    "def standard_deviation(x: np.ndarray):\n",
    "  \"\"\"\n",
    "    Вычисление среднего отклонения\n",
    "\n",
    "    :param x: Массив\n",
    "    :type x: np.ndarray\n",
    "    :return: Среднее отклонение\n",
    "    :rtype: float\n",
    "  \"\"\"\n",
    "  return round(np.sqrt(variance(x)), 2)"
   ],
   "metadata": {
    "id": "-xDOul1cYYhC"
   },
   "execution_count": null,
   "outputs": []
  },
  {
   "cell_type": "markdown",
   "source": [
    "### Функции для вычисления ошибок MSE, MAE, accuracy, precision, recall, f1 score.\n",
    "\n",
    "Функции должны принимать два параметра y_pred, y_true.\n",
    "\n",
    "См. аналогичные функции из библиотеки sklearn;"
   ],
   "metadata": {
    "id": "o5yglNNgaNkJ"
   }
  },
  {
   "cell_type": "markdown",
   "source": [
    "#### Среднеквадратическая ошибка (MSE)"
   ],
   "metadata": {
    "id": "ROLMZuPjvW-v"
   }
  },
  {
   "cell_type": "markdown",
   "source": [
    "$$ MSE = \\frac{1}{n} \\sum_{i=1}^{n} (y_i - \\hat{y}_i)^2 $$"
   ],
   "metadata": {
    "collapsed": false
   }
  },
  {
   "cell_type": "code",
   "source": [
    "\n",
    "# Массивы для проверки\n",
    "true_value = [110, 200, 300]\n",
    "prediction_value = [90, 210, 290]\n",
    "\n",
    "def mean_squared_error(y_pred: list, y_true:list):\n",
    "  \"\"\"\n",
    "    Вычисление среднеквадратической ошибки\n",
    "\n",
    "    :param y_pred: Массив с предсказанным значением\n",
    "    :type y_pred: list\n",
    "    :param y_true: Массив с реальным значением\n",
    "    :type y_true: list\n",
    "    :return: Среднеквадратическая ошибка\n",
    "    :rtype: float\n",
    "  \"\"\"\n",
    "  difference = []\n",
    "\n",
    "  for i in range(len(y_true)):\n",
    "    difference.append((y_true[i] - y_pred[i]) ** 2)\n",
    "\n",
    "  mean_val = mean(x=difference)\n",
    "  return mean_val\n",
    "print(mean_squared_error(prediction_value, true_value))"
   ],
   "metadata": {
    "id": "q6gOf8srab2a",
    "outputId": "15c81088-33d1-4d7a-ce56-c1ec53ccb4d3",
    "colab": {
     "base_uri": "https://localhost:8080/"
    }
   },
   "execution_count": null,
   "outputs": [
    {
     "output_type": "stream",
     "name": "stdout",
     "text": [
      "200.0\n"
     ]
    }
   ]
  },
  {
   "cell_type": "markdown",
   "source": [
    "#### Средняя абсолютная ошибка (MAE)"
   ],
   "metadata": {
    "id": "yNEMs8awzAPH"
   }
  },
  {
   "cell_type": "markdown",
   "source": [
    "$$ MAE = \\frac{1}{n} \\sum_{i=1}^{n} |y_i - \\hat{y}_i| $$"
   ],
   "metadata": {
    "collapsed": false
   }
  },
  {
   "cell_type": "code",
   "source": [
    "import numpy as np\n",
    "# Массивы для проверки\n",
    "true_value = [120, 200, 300]\n",
    "prediction_value = [90, 210, 290]\n",
    "\n",
    "def mean_absolute_error(y_pred: list, y_true:list):\n",
    "  \"\"\"\n",
    "    Вычисление средней абсолютной ошибки\n",
    "\n",
    "    :param y_pred: Массив с предсказанным значением\n",
    "    :type y_pred: list\n",
    "    :param y_true: Массив с реальным значением\n",
    "    :type y_true: list\n",
    "    :return: Средняя абсолютная ошибка\n",
    "    :rtype: float\n",
    "  \"\"\"\n",
    "  difference = []\n",
    "  n = len(y_true)\n",
    "\n",
    "  for i in range(n):\n",
    "    difference.append(abs(y_true[i] - y_pred[i]))\n",
    "\n",
    "\n",
    "  mean_val = mean(x=difference)\n",
    "  # return diff\n",
    "\n",
    "mean_absolute_error(prediction_value, true_value)"
   ],
   "metadata": {
    "id": "aqJuLl3p2He-"
   },
   "execution_count": null,
   "outputs": []
  },
  {
   "cell_type": "markdown",
   "source": [
    "#### Accuracy"
   ],
   "metadata": {
    "id": "BCyFqXCULsde"
   }
  },
  {
   "cell_type": "markdown",
   "source": [
    "$$ Accuracy =  \\frac{TP + TN}{TP + TN + FP + FN} $$"
   ],
   "metadata": {
    "collapsed": false
   }
  },
  {
   "cell_type": "code",
   "source": [
    "import numpy as np\n",
    "# Массивы для проверки\n",
    "true_value =       [0, 1, 1, 0, 0, 1]\n",
    "prediction_value = [0, 1, 0, 1, 1, 1]\n",
    "\n",
    "def accuracy(y_pred: list, y_true:list):\n",
    "  \"\"\"\n",
    "    Вычисление accuracy\n",
    "\n",
    "    :param y_pred: Массив с предсказанным значением\n",
    "    :type y_pred: list\n",
    "    :param y_true: Массив с реальным значением\n",
    "    :type y_true: list\n",
    "    :return: accuracy\n",
    "    :rtype: float\n",
    "  \"\"\"\n",
    "  T = 0\n",
    "  n = len(y_true)\n",
    "\n",
    "  for i in range(len(y_true)):\n",
    "    if y_true[i] == y_pred[i]:\n",
    "      T += 1\n",
    "\n",
    "  return T/len(y_true)\n",
    "\n",
    "\n",
    "\n",
    "accuracy(prediction_value, true_value)"
   ],
   "metadata": {
    "colab": {
     "base_uri": "https://localhost:8080/"
    },
    "id": "jB9I89mcNcX7",
    "outputId": "0b6876d6-fc6a-4efa-a89d-6977cf909576",
    "ExecuteTime": {
     "start_time": "2025-02-15T16:24:02.142677Z",
     "end_time": "2025-02-15T16:24:02.156061Z"
    }
   },
   "execution_count": 6,
   "outputs": [
    {
     "data": {
      "text/plain": "0.5"
     },
     "execution_count": 6,
     "metadata": {},
     "output_type": "execute_result"
    }
   ]
  },
  {
   "cell_type": "markdown",
   "source": [
    "#### Precision"
   ],
   "metadata": {
    "collapsed": false
   }
  },
  {
   "cell_type": "markdown",
   "source": [
    "$$ Precision =  \\frac{TP}{TP + FP} $$"
   ],
   "metadata": {
    "collapsed": false
   }
  },
  {
   "cell_type": "code",
   "source": [
    "# Массивы для проверки\n",
    "true_value =       [0, 1, 1, 0, 0, 1]\n",
    "prediction_value = [0, 1, 0, 1, 1, 1]\n",
    "\n",
    "def precision (y_pred: list, y_true:list):\n",
    "  \"\"\"\n",
    "    Вычисление precision\n",
    "\n",
    "    :param y_pred: Массив с предсказанным значением, может быть только 0 или 1\n",
    "    :type y_pred: list\n",
    "    :param y_true: Массив с реальным значением, может быть только 0 или 1\n",
    "    :type y_true: list\n",
    "    :return: precision\n",
    "    :rtype: float\n",
    "  \"\"\"\n",
    "  TP = 0\n",
    "  TN = 0\n",
    "  FP = 0\n",
    "  FN = 0\n",
    "  n = len(y_true)\n",
    "\n",
    "  for i in range(len(y_true)):\n",
    "    if y_true[i] == y_pred[i] and y_true[i] == 0:\n",
    "      TN += 1\n",
    "    elif y_true[i] == y_pred[i] and y_true[i] == 1:\n",
    "      TP += 1\n",
    "    elif y_true[i] > y_pred[i]:\n",
    "      FN += 1\n",
    "    elif y_true[i] < y_pred[i]:\n",
    "      FP += 1\n",
    "\n",
    "  return TP/(TP + FP)\n",
    "\n",
    "\n",
    "\n",
    "precision(prediction_value, true_value)"
   ],
   "metadata": {
    "id": "IoY4WDlvO-Nc",
    "ExecuteTime": {
     "start_time": "2025-02-15T16:23:53.392176Z",
     "end_time": "2025-02-15T16:23:53.402178Z"
    }
   },
   "execution_count": 5,
   "outputs": [
    {
     "data": {
      "text/plain": "0.5"
     },
     "execution_count": 5,
     "metadata": {},
     "output_type": "execute_result"
    }
   ]
  },
  {
   "cell_type": "markdown",
   "source": [
    "#### Recall"
   ],
   "metadata": {
    "id": "XEx6ZW6bNTKL"
   }
  },
  {
   "cell_type": "markdown",
   "source": [
    "$$ Recall =  \\frac{TP}{TP + FN} $$"
   ],
   "metadata": {
    "collapsed": false
   }
  },
  {
   "cell_type": "code",
   "execution_count": 8,
   "outputs": [
    {
     "data": {
      "text/plain": "0.6666666666666666"
     },
     "execution_count": 8,
     "metadata": {},
     "output_type": "execute_result"
    }
   ],
   "source": [
    "# Массивы для проверки\n",
    "true_value =       [0, 1, 1, 0, 0, 1]\n",
    "prediction_value = [0, 1, 0, 1, 1, 1]\n",
    "\n",
    "def recall (y_pred: list, y_true:list):\n",
    "  \"\"\"\n",
    "    Вычисление Recall\n",
    "\n",
    "    :param y_pred: Массив с предсказанным значением, может быть только 0 или 1\n",
    "    :type y_pred: list\n",
    "    :param y_true: Массив с реальным значением, может быть только 0 или 1\n",
    "    :type y_true: list\n",
    "    :return: recall\n",
    "    :rtype: float\n",
    "  \"\"\"\n",
    "  TP = 0\n",
    "  TN = 0\n",
    "  FP = 0\n",
    "  FN = 0\n",
    "  n = len(y_true)\n",
    "\n",
    "  for i in range(len(y_true)):\n",
    "    if y_true[i] == y_pred[i] and y_true[i] == 0:\n",
    "      TN += 1\n",
    "    elif y_true[i] == y_pred[i] and y_true[i] == 1:\n",
    "      TP += 1\n",
    "    elif y_true[i] > y_pred[i]:\n",
    "      FN += 1\n",
    "    elif y_true[i] < y_pred[i]:\n",
    "      FP += 1\n",
    "\n",
    "  return TP/(TP + FN)\n",
    "\n",
    "\n",
    "\n",
    "recall(prediction_value, true_value)"
   ],
   "metadata": {
    "collapsed": false,
    "ExecuteTime": {
     "start_time": "2025-02-15T16:25:46.617163Z",
     "end_time": "2025-02-15T16:25:46.628165Z"
    }
   }
  },
  {
   "cell_type": "markdown",
   "source": [
    "#### F1 score"
   ],
   "metadata": {
    "id": "BkV5PucNNWeb"
   }
  },
  {
   "cell_type": "markdown",
   "source": [
    "\n",
    "$$ F1-score = 2 \\times \\frac{Precision \\times Recall}{Precision + Recall} $$\n"
   ],
   "metadata": {
    "collapsed": false
   }
  },
  {
   "cell_type": "code",
   "execution_count": null,
   "outputs": [],
   "source": [],
   "metadata": {
    "collapsed": false
   }
  },
  {
   "cell_type": "code",
   "execution_count": 9,
   "outputs": [
    {
     "data": {
      "text/plain": "0.5714285714285715"
     },
     "execution_count": 9,
     "metadata": {},
     "output_type": "execute_result"
    }
   ],
   "source": [
    "# Массивы для проверки\n",
    "true_value =       [0, 1, 1, 0, 0, 1]\n",
    "prediction_value = [0, 1, 0, 1, 1, 1]\n",
    "\n",
    "def f1_score (y_pred: list, y_true:list):\n",
    "  \"\"\"\n",
    "    Вычисление Recall\n",
    "\n",
    "    :param y_pred: Массив с предсказанным значением, может быть только 0 или 1\n",
    "    :type y_pred: list\n",
    "    :param y_true: Массив с реальным значением, может быть только 0 или 1\n",
    "    :type y_true: list\n",
    "    :return: F1 score\n",
    "    :rtype: float\n",
    "  \"\"\"\n",
    "  pre = precision(y_pred, y_true)\n",
    "  rc = recall(y_pred, y_true)\n",
    "\n",
    "\n",
    "\n",
    "\n",
    "  return 2 * ((pre * rc) / (pre + rc))\n",
    "\n",
    "\n",
    "\n",
    "f1_score(prediction_value, true_value)"
   ],
   "metadata": {
    "collapsed": false,
    "ExecuteTime": {
     "start_time": "2025-02-15T16:25:51.747137Z",
     "end_time": "2025-02-15T16:25:51.760649Z"
    }
   }
  },
  {
   "cell_type": "code",
   "execution_count": null,
   "outputs": [],
   "source": [],
   "metadata": {
    "collapsed": false
   }
  }
 ],
 "metadata": {
  "kernelspec": {
   "display_name": "Python 3",
   "language": "python",
   "name": "python3"
  },
  "language_info": {
   "codemirror_mode": {
    "name": "ipython",
    "version": 2
   },
   "file_extension": ".py",
   "mimetype": "text/x-python",
   "name": "python",
   "nbconvert_exporter": "python",
   "pygments_lexer": "ipython2",
   "version": "2.7.6"
  },
  "colab": {
   "provenance": []
  }
 },
 "nbformat": 4,
 "nbformat_minor": 0
}
