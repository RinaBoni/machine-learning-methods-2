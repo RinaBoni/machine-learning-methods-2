{
 "cells": [
  {
   "cell_type": "code",
   "source": [
    "# Создание массива для проверки\n",
    "import numpy as np\n",
    "\n",
    "\n",
    "mean = 165  # Средний рост\n",
    "std_dev = 10  # Стандартное отклонение\n",
    "size = 100   # Количество элементов в массиве\n",
    "\n",
    "# Генерация массива с ростом женщин\n",
    "heights = np.random.normal(mean, std_dev, size)\n",
    "\n",
    "# Округление значений до целых чисел\n",
    "heights = np.round(heights).astype(int)\n",
    "\n",
    "print(heights)\n",
    "print(type(heights))"
   ],
   "metadata": {
    "id": "8M4FBDb0NNsK",
    "outputId": "8c184b0c-9dfb-43f9-f5c6-d9d2b8577bba",
    "colab": {
     "base_uri": "https://localhost:8080/"
    },
    "ExecuteTime": {
     "start_time": "2025-02-17T15:40:34.201693Z",
     "end_time": "2025-02-17T15:40:35.117684Z"
    }
   },
   "execution_count": 1,
   "outputs": [
    {
     "name": "stdout",
     "output_type": "stream",
     "text": [
      "[180 167 167 165 175 170 162 162 156 164 178 154 161 183 160 167 162 166\n",
      " 170 181 163 148 178 160 164 151 166 151 162 171 179 163 163 154 160 158\n",
      " 165 166 178 166 177 163 177 174 175 149 184 175 160 172 164 160 179 157\n",
      " 158 165 151 164 161 175 161 180 162 169 154 161 165 161 175 156 163 150\n",
      " 161 166 168 171 181 167 150 153 152 174 173 172 155 169 157 168 155 155\n",
      " 163 175 183 148 169 169 158 179 156 179]\n",
      "<class 'numpy.ndarray'>\n"
     ]
    }
   ]
  },
  {
   "cell_type": "markdown",
   "source": [
    "### Функция для вычисления стандартного отклонения случайной величины;"
   ],
   "metadata": {
    "id": "7HTAjcHyNI_j"
   }
  },
  {
   "cell_type": "markdown",
   "source": [
    "#### Среднее значение"
   ],
   "metadata": {
    "collapsed": false
   }
  },
  {
   "cell_type": "markdown",
   "source": [
    "$$ M(X) = \\sum \\limits_{i=1}^{n} \\frac{x_i}{n} $$"
   ],
   "metadata": {
    "id": "4sGpSvZ3ug_Y"
   }
  },
  {
   "cell_type": "code",
   "source": [
    "def mean(x):\n",
    "  \"\"\"\n",
    "    Вычисление среднего числа по массиву\n",
    "\n",
    "    :param x: Массив\n",
    "    :type x: список, np.ndarray\n",
    "    :return: Среднее\n",
    "    :rtype: float\n",
    "  \"\"\"\n",
    "  sum = 0\n",
    "  for i in range(len(x)):\n",
    "    sum += x[i]\n",
    "  return sum / len(x)"
   ],
   "metadata": {
    "id": "vR-S7DzrR3xj",
    "ExecuteTime": {
     "start_time": "2025-02-17T16:21:10.725495Z",
     "end_time": "2025-02-17T16:21:10.751501Z"
    }
   },
   "execution_count": 88,
   "outputs": []
  },
  {
   "cell_type": "code",
   "execution_count": 90,
   "outputs": [
    {
     "name": "stdout",
     "output_type": "stream",
     "text": [
      "Все тесты для функции mean прошли успешно!\n"
     ]
    }
   ],
   "source": [
    "def test_mean():\n",
    "  a = [1, 2, 3]\n",
    "  b = [4, 5, 6]\n",
    "  c = [33, 44, 55]\n",
    "  try:\n",
    "    assert mean(a) == 2, \"первый провален\"\n",
    "    assert mean(b) == 5, \"второй провален\"\n",
    "    assert mean(c) == 44, \"третий провален\"\n",
    "    print(\"Все тесты для функции mean прошли успешно!\")\n",
    "  except AssertionError as e:\n",
    "    print(f\"Тест провален: {e}\")\n",
    "\n",
    "test_mean()"
   ],
   "metadata": {
    "collapsed": false,
    "ExecuteTime": {
     "start_time": "2025-02-17T16:21:46.420289Z",
     "end_time": "2025-02-17T16:21:46.440084Z"
    }
   }
  },
  {
   "cell_type": "markdown",
   "source": [
    "#### Дисперсия"
   ],
   "metadata": {
    "collapsed": false
   }
  },
  {
   "cell_type": "markdown",
   "source": [
    "$$ s^2 = \\frac{1}{n} \\sum_{i=1}^{n} (x_i - \\bar{x})^2 $$"
   ],
   "metadata": {
    "collapsed": false
   }
  },
  {
   "cell_type": "code",
   "source": [
    "def variance(x: np.ndarray):\n",
    "  \"\"\"\n",
    "    Вычисление дисперсии\n",
    "\n",
    "    :param x: Массив\n",
    "    :type x: np.ndarray\n",
    "    :return: Дисперсия\n",
    "    :rtype: float\n",
    "  \"\"\"\n",
    "  mu = mean(x)\n",
    "  sum = 0\n",
    "\n",
    "  for i in range(len(x)):\n",
    "    sum += (x[i] - mu) ** 2\n",
    "  return sum / len(x)"
   ],
   "metadata": {
    "id": "H_uu6EqZVBLa",
    "ExecuteTime": {
     "start_time": "2025-02-17T15:57:59.646185Z",
     "end_time": "2025-02-17T15:57:59.671988Z"
    }
   },
   "execution_count": 41,
   "outputs": []
  },
  {
   "cell_type": "code",
   "execution_count": 44,
   "outputs": [
    {
     "name": "stdout",
     "output_type": "stream",
     "text": [
      "Все тесты для функции variance прошли успешно!\n"
     ]
    }
   ],
   "source": [
    "def test_variance():\n",
    "  a = [1, 2]\n",
    "  b = [4, 5, 6]\n",
    "  c = [33, 44, 55]\n",
    "  try:\n",
    "    assert round(variance(a), 2) == 0.25, \"первый провален\"\n",
    "    assert round(variance(b), 2) == 0.67, \"второй провален\"\n",
    "    assert round(variance(c), 2) == 80.67, \"третий провален\"\n",
    "    print(\"Все тесты для функции variance прошли успешно!\")\n",
    "  except AssertionError as e:\n",
    "    print(f\"Тест провален: {e}\")\n",
    "\n",
    "test_variance()"
   ],
   "metadata": {
    "collapsed": false,
    "ExecuteTime": {
     "start_time": "2025-02-17T15:59:24.741899Z",
     "end_time": "2025-02-17T15:59:24.768349Z"
    }
   }
  },
  {
   "cell_type": "markdown",
   "source": [
    "#### Стандартное отклонение случайной величины"
   ],
   "metadata": {
    "collapsed": false
   }
  },
  {
   "cell_type": "markdown",
   "source": [
    "$$ s = \\sqrt{\\frac{1}{n} \\sum_{i=1}^{n} (x_i - \\bar{x})^2} $$"
   ],
   "metadata": {
    "collapsed": false
   }
  },
  {
   "cell_type": "code",
   "source": [
    "def standard_deviation(x: np.ndarray):\n",
    "  \"\"\"\n",
    "    Вычисление среднего отклонения\n",
    "\n",
    "    :param x: Массив\n",
    "    :type x: np.ndarray\n",
    "    :return: Среднее отклонение\n",
    "    :rtype: float\n",
    "  \"\"\"\n",
    "  return np.sqrt(variance(x))"
   ],
   "metadata": {
    "id": "-xDOul1cYYhC",
    "ExecuteTime": {
     "start_time": "2025-02-17T16:02:47.033003Z",
     "end_time": "2025-02-17T16:02:47.058685Z"
    }
   },
   "execution_count": 55,
   "outputs": []
  },
  {
   "cell_type": "code",
   "execution_count": 54,
   "outputs": [
    {
     "name": "stdout",
     "output_type": "stream",
     "text": [
      "Все тесты для функции standard_deviation прошли успешно!\n"
     ]
    }
   ],
   "source": [
    "def test_standard_deviation():\n",
    "  a = [1, 2]\n",
    "  b = [4, 5, 6]\n",
    "  c = [33, 44, 55]\n",
    "  try:\n",
    "    assert round(standard_deviation(a), 2) == 0.5, \"первый провален\"\n",
    "    assert round(standard_deviation(b), 2) == 0.82, \"второй провален\"\n",
    "    assert round(standard_deviation(c), 2) == 8.98, \"третий провален\"\n",
    "    print(\"Все тесты для функции standard_deviation прошли успешно!\")\n",
    "  except AssertionError as e:\n",
    "    print(f\"Тест провален: {e}\")\n",
    "\n",
    "test_standard_deviation()"
   ],
   "metadata": {
    "collapsed": false,
    "ExecuteTime": {
     "start_time": "2025-02-17T16:02:37.982323Z",
     "end_time": "2025-02-17T16:02:38.000456Z"
    }
   }
  },
  {
   "cell_type": "markdown",
   "source": [
    "### Функции для вычисления ошибок MSE, MAE, accuracy, precision, recall, f1 score.\n",
    "\n",
    "Функции должны принимать два параметра y_pred, y_true.\n",
    "\n",
    "См. аналогичные функции из библиотеки sklearn;"
   ],
   "metadata": {
    "id": "o5yglNNgaNkJ"
   }
  },
  {
   "cell_type": "markdown",
   "source": [
    "#### Среднеквадратическая ошибка (MSE)"
   ],
   "metadata": {
    "id": "ROLMZuPjvW-v"
   }
  },
  {
   "cell_type": "markdown",
   "source": [
    "$$ MSE = \\frac{1}{n} \\sum_{i=1}^{n} (y_i - \\hat{y}_i)^2 $$"
   ],
   "metadata": {
    "collapsed": false
   }
  },
  {
   "cell_type": "code",
   "source": [
    "def mean_squared_error(y_pred: list, y_true:list):\n",
    "  \"\"\"\n",
    "    Вычисление среднеквадратической ошибки\n",
    "\n",
    "    :param y_pred: Массив с предсказанным значением\n",
    "    :type y_pred: list\n",
    "    :param y_true: Массив с реальным значением\n",
    "    :type y_true: list\n",
    "    :return: Среднеквадратическая ошибка\n",
    "    :rtype: float\n",
    "  \"\"\"\n",
    "  difference = []\n",
    "\n",
    "  for i in range(len(y_true)):\n",
    "    difference.append((y_true[i] - y_pred[i]) ** 2)\n",
    "\n",
    "  mean_val = mean(x=difference)\n",
    "  return mean_val"
   ],
   "metadata": {
    "id": "q6gOf8srab2a",
    "outputId": "15c81088-33d1-4d7a-ce56-c1ec53ccb4d3",
    "colab": {
     "base_uri": "https://localhost:8080/"
    },
    "ExecuteTime": {
     "start_time": "2025-02-17T16:14:21.646593Z",
     "end_time": "2025-02-17T16:14:21.665615Z"
    }
   },
   "execution_count": 66,
   "outputs": []
  },
  {
   "cell_type": "code",
   "execution_count": 69,
   "outputs": [
    {
     "name": "stdout",
     "output_type": "stream",
     "text": [
      "Все тесты для функции mean_squared_error прошли успешно!\n"
     ]
    }
   ],
   "source": [
    "def test_mean_squared_error():\n",
    "  a_true_value = [110, 200, 300]\n",
    "  a_prediction_value = [90, 210, 290]\n",
    "  b_true_value = [110, 280, 280]\n",
    "  b_prediction_value = [130, 260, 320]\n",
    "  c_true_value = [800, 560, 850]\n",
    "  c_prediction_value = [750, 560, 880]\n",
    "  try:\n",
    "    assert round(mean_squared_error(a_true_value, a_prediction_value), 2) == 200, \"первый провален\"\n",
    "    assert round(mean_squared_error(b_true_value, b_prediction_value), 2) == 800, \"второй провален\"\n",
    "    assert round(mean_squared_error(c_true_value, c_prediction_value), 2) == 1133.33, \"третий провален\"\n",
    "    print(\"Все тесты для функции mean_squared_error прошли успешно!\")\n",
    "  except AssertionError as e:\n",
    "    print(f\"Тест провален: {e}\")\n",
    "\n",
    "test_mean_squared_error()"
   ],
   "metadata": {
    "collapsed": false,
    "ExecuteTime": {
     "start_time": "2025-02-17T16:14:32.950214Z",
     "end_time": "2025-02-17T16:14:32.965592Z"
    }
   }
  },
  {
   "cell_type": "markdown",
   "source": [
    "#### Средняя абсолютная ошибка (MAE)"
   ],
   "metadata": {
    "id": "yNEMs8awzAPH"
   }
  },
  {
   "cell_type": "markdown",
   "source": [
    "$$ MAE = \\frac{1}{n} \\sum_{i=1}^{n} |y_i - \\hat{y}_i| $$"
   ],
   "metadata": {
    "collapsed": false
   }
  },
  {
   "cell_type": "code",
   "source": [
    "def mean_absolute_error(y_pred: list, y_true:list):\n",
    "  \"\"\"\n",
    "    Вычисление средней абсолютной ошибки\n",
    "\n",
    "    :param y_pred: Массив с предсказанным значением\n",
    "    :type y_pred: list\n",
    "    :param y_true: Массив с реальным значением\n",
    "    :type y_true: list\n",
    "    :return: Средняя абсолютная ошибка\n",
    "    :rtype: float\n",
    "  \"\"\"\n",
    "  difference = []\n",
    "  n = len(y_true)\n",
    "\n",
    "  for i in range(n):\n",
    "    difference.append(abs(y_true[i] - y_pred[i]))\n",
    "\n",
    "\n",
    "  mean_val = mean(x=difference)\n",
    "  return mean_val"
   ],
   "metadata": {
    "id": "aqJuLl3p2He-",
    "ExecuteTime": {
     "start_time": "2025-02-17T16:20:25.491325Z",
     "end_time": "2025-02-17T16:20:25.514333Z"
    }
   },
   "execution_count": 87,
   "outputs": []
  },
  {
   "cell_type": "code",
   "execution_count": 85,
   "outputs": [
    {
     "name": "stdout",
     "output_type": "stream",
     "text": [
      "Все тесты для функции mean_absolute_error прошли успешно!\n"
     ]
    }
   ],
   "source": [
    "def test_mean_absolute_error():\n",
    "  a_true_value = [120, 200, 300]\n",
    "  a_prediction_value = [90, 210, 290]\n",
    "  b_true_value = [110, 280, 280]\n",
    "  b_prediction_value = [130, 260, 320]\n",
    "  c_true_value = [800, 560, 850]\n",
    "  c_prediction_value = [750, 560, 880]\n",
    "  try:\n",
    "    assert round(mean_absolute_error(a_true_value, a_prediction_value), 2) == 16.67, \"первый провален\"\n",
    "    assert round(mean_absolute_error(b_true_value, b_prediction_value), 2) == 26.67, \"второй провален\"\n",
    "    assert round(mean_absolute_error(c_true_value, c_prediction_value), 2) == 26.67, \"третий провален\"\n",
    "    print(\"Все тесты для функции mean_absolute_error прошли успешно!\")\n",
    "  except AssertionError as e:\n",
    "    print(f\"Тест провален: {e}\")\n",
    "\n",
    "test_mean_absolute_error()"
   ],
   "metadata": {
    "collapsed": false,
    "ExecuteTime": {
     "start_time": "2025-02-17T16:19:45.518762Z",
     "end_time": "2025-02-17T16:19:45.545809Z"
    }
   }
  },
  {
   "cell_type": "markdown",
   "source": [
    "#### Accuracy"
   ],
   "metadata": {
    "id": "BCyFqXCULsde"
   }
  },
  {
   "cell_type": "markdown",
   "source": [
    "$$ Accuracy =  \\frac{TP + TN}{TP + TN + FP + FN} $$"
   ],
   "metadata": {
    "collapsed": false
   }
  },
  {
   "cell_type": "code",
   "source": [
    "def accuracy(y_pred: list, y_true:list):\n",
    "  \"\"\"\n",
    "    Вычисление accuracy\n",
    "\n",
    "    :param y_pred: Массив с предсказанным значением\n",
    "    :type y_pred: list\n",
    "    :param y_true: Массив с реальным значением\n",
    "    :type y_true: list\n",
    "    :return: accuracy\n",
    "    :rtype: float\n",
    "  \"\"\"\n",
    "  T = 0\n",
    "  n = len(y_true)\n",
    "\n",
    "  for i in range(len(y_true)):\n",
    "    if y_true[i] == y_pred[i]:\n",
    "      T += 1\n",
    "\n",
    "  return T/len(y_true)"
   ],
   "metadata": {
    "colab": {
     "base_uri": "https://localhost:8080/"
    },
    "id": "jB9I89mcNcX7",
    "outputId": "0b6876d6-fc6a-4efa-a89d-6977cf909576",
    "ExecuteTime": {
     "start_time": "2025-02-17T16:26:24.861349Z",
     "end_time": "2025-02-17T16:26:24.881350Z"
    }
   },
   "execution_count": 103,
   "outputs": []
  },
  {
   "cell_type": "code",
   "execution_count": 104,
   "outputs": [
    {
     "name": "stdout",
     "output_type": "stream",
     "text": [
      "Все тесты для функции accuracy прошли успешно!\n"
     ]
    }
   ],
   "source": [
    "def test_accuracy():\n",
    "  a_true_value =       [0, 1, 1, 0, 0, 1]\n",
    "  a_prediction_value = [0, 1, 0, 1, 1, 1]\n",
    "  b_true_value =       [0, 1, 1, 0, 1, 1]\n",
    "  b_prediction_value = [0, 0, 0, 1, 0, 1]\n",
    "  c_true_value =       [1, 1, 0, 0, 1, 0]\n",
    "  c_prediction_value = [0, 0, 1, 1, 1, 1]\n",
    "  try:\n",
    "    assert round(accuracy(a_true_value, a_prediction_value), 2) == 0.5, \"первый провален\"\n",
    "    assert round(accuracy(b_true_value, b_prediction_value), 2) == 0.33, \"второй провален\"\n",
    "    assert round(accuracy(c_true_value, c_prediction_value), 2) == 0.17, \"третий провален\"\n",
    "    print(\"Все тесты для функции accuracy прошли успешно!\")\n",
    "  except AssertionError as e:\n",
    "    print(f\"Тест провален: {e}\")\n",
    "\n",
    "test_accuracy()"
   ],
   "metadata": {
    "collapsed": false,
    "ExecuteTime": {
     "start_time": "2025-02-17T16:26:29.157061Z",
     "end_time": "2025-02-17T16:26:29.173321Z"
    }
   }
  },
  {
   "cell_type": "markdown",
   "source": [
    "#### Precision"
   ],
   "metadata": {
    "collapsed": false
   }
  },
  {
   "cell_type": "markdown",
   "source": [
    "$$ Precision =  \\frac{TP}{TP + FP} $$"
   ],
   "metadata": {
    "collapsed": false
   }
  },
  {
   "cell_type": "code",
   "source": [
    "def precision (y_pred: list, y_true:list):\n",
    "  \"\"\"\n",
    "    Вычисление precision\n",
    "\n",
    "    :param y_pred: Массив с предсказанным значением, может быть только 0 или 1\n",
    "    :type y_pred: list\n",
    "    :param y_true: Массив с реальным значением, может быть только 0 или 1\n",
    "    :type y_true: list\n",
    "    :return: precision\n",
    "    :rtype: float\n",
    "  \"\"\"\n",
    "  TP = 0\n",
    "  TN = 0\n",
    "  FP = 0\n",
    "  FN = 0\n",
    "  n = len(y_true)\n",
    "\n",
    "  for i in range(len(y_true)):\n",
    "    if y_true[i] == y_pred[i] and y_true[i] == 0:\n",
    "      TN += 1\n",
    "    elif y_true[i] == y_pred[i] and y_true[i] == 1:\n",
    "      TP += 1\n",
    "    elif y_true[i] > y_pred[i]:\n",
    "      FN += 1\n",
    "    elif y_true[i] < y_pred[i]:\n",
    "      FP += 1\n",
    "\n",
    "  return TP/(TP + FP)"
   ],
   "metadata": {
    "id": "IoY4WDlvO-Nc",
    "ExecuteTime": {
     "start_time": "2025-02-17T16:29:03.278771Z",
     "end_time": "2025-02-17T16:29:03.299000Z"
    }
   },
   "execution_count": 110,
   "outputs": [
    {
     "data": {
      "text/plain": "0.3333333333333333"
     },
     "execution_count": 110,
     "metadata": {},
     "output_type": "execute_result"
    }
   ]
  },
  {
   "cell_type": "code",
   "execution_count": 111,
   "outputs": [
    {
     "name": "stdout",
     "output_type": "stream",
     "text": [
      "Все тесты для функции precision прошли успешно!\n"
     ]
    }
   ],
   "source": [
    "def test_precision():\n",
    "  a_true_value =       [0, 1, 1, 0, 0, 1]\n",
    "  a_prediction_value = [0, 1, 0, 1, 1, 1]\n",
    "  b_true_value =       [0, 1, 1, 0, 1, 1]\n",
    "  b_prediction_value = [0, 0, 0, 1, 0, 1]\n",
    "  c_true_value =       [1, 1, 0, 0, 1, 0]\n",
    "  c_prediction_value = [0, 0, 1, 1, 1, 1]\n",
    "  try:\n",
    "    assert round(precision(a_true_value, a_prediction_value), 2) == 0.67, \"первый провален\"\n",
    "    assert round(precision(b_true_value, b_prediction_value), 2) == 0.25, \"второй провален\"\n",
    "    assert round(precision(c_true_value, c_prediction_value), 2) == 0.33, \"третий провален\"\n",
    "    print(\"Все тесты для функции precision прошли успешно!\")\n",
    "  except AssertionError as e:\n",
    "    print(f\"Тест провален: {e}\")\n",
    "\n",
    "test_precision()"
   ],
   "metadata": {
    "collapsed": false,
    "ExecuteTime": {
     "start_time": "2025-02-17T16:29:10.870172Z",
     "end_time": "2025-02-17T16:29:10.892572Z"
    }
   }
  },
  {
   "cell_type": "markdown",
   "source": [
    "#### Recall"
   ],
   "metadata": {
    "id": "XEx6ZW6bNTKL"
   }
  },
  {
   "cell_type": "markdown",
   "source": [
    "$$ Recall =  \\frac{TP}{TP + FN} $$"
   ],
   "metadata": {
    "collapsed": false
   }
  },
  {
   "cell_type": "code",
   "execution_count": 117,
   "outputs": [
    {
     "data": {
      "text/plain": "0.25"
     },
     "execution_count": 117,
     "metadata": {},
     "output_type": "execute_result"
    }
   ],
   "source": [
    "def recall (y_pred: list, y_true:list):\n",
    "  \"\"\"\n",
    "    Вычисление Recall\n",
    "\n",
    "    :param y_pred: Массив с предсказанным значением, может быть только 0 или 1\n",
    "    :type y_pred: list\n",
    "    :param y_true: Массив с реальным значением, может быть только 0 или 1\n",
    "    :type y_true: list\n",
    "    :return: recall\n",
    "    :rtype: float\n",
    "  \"\"\"\n",
    "  TP = 0\n",
    "  TN = 0\n",
    "  FP = 0\n",
    "  FN = 0\n",
    "  n = len(y_true)\n",
    "\n",
    "  for i in range(len(y_true)):\n",
    "    if y_true[i] == y_pred[i] and y_true[i] == 0:\n",
    "      TN += 1\n",
    "    elif y_true[i] == y_pred[i] and y_true[i] == 1:\n",
    "      TP += 1\n",
    "    elif y_true[i] > y_pred[i]:\n",
    "      FN += 1\n",
    "    elif y_true[i] < y_pred[i]:\n",
    "      FP += 1\n",
    "\n",
    "  return TP/(TP + FN)"
   ],
   "metadata": {
    "collapsed": false,
    "ExecuteTime": {
     "start_time": "2025-02-17T16:31:12.240394Z",
     "end_time": "2025-02-17T16:31:12.276870Z"
    }
   }
  },
  {
   "cell_type": "code",
   "execution_count": 118,
   "outputs": [
    {
     "name": "stdout",
     "output_type": "stream",
     "text": [
      "Все тесты для функции recall прошли успешно!\n"
     ]
    }
   ],
   "source": [
    "def test_recall():\n",
    "  a_true_value =       [0, 1, 1, 0, 0, 1]\n",
    "  a_prediction_value = [0, 1, 0, 1, 1, 1]\n",
    "  b_true_value =       [0, 1, 1, 0, 1, 1]\n",
    "  b_prediction_value = [0, 0, 0, 1, 0, 1]\n",
    "  c_true_value =       [1, 1, 0, 0, 1, 0]\n",
    "  c_prediction_value = [0, 0, 1, 1, 1, 1]\n",
    "  try:\n",
    "    assert round(recall(a_true_value, a_prediction_value), 2) == 0.5, \"первый провален\"\n",
    "    assert round(recall(b_true_value, b_prediction_value), 2) == 0.5, \"второй провален\"\n",
    "    assert round(recall(c_true_value, c_prediction_value), 2) == 0.25, \"третий провален\"\n",
    "    print(\"Все тесты для функции recall прошли успешно!\")\n",
    "  except AssertionError as e:\n",
    "    print(f\"Тест провален: {e}\")\n",
    "\n",
    "test_recall()"
   ],
   "metadata": {
    "collapsed": false,
    "ExecuteTime": {
     "start_time": "2025-02-17T16:31:16.928393Z",
     "end_time": "2025-02-17T16:31:16.957109Z"
    }
   }
  },
  {
   "cell_type": "markdown",
   "source": [
    "#### F1 score"
   ],
   "metadata": {
    "id": "BkV5PucNNWeb"
   }
  },
  {
   "cell_type": "markdown",
   "source": [
    "\n",
    "$$ F1-score = 2 \\times \\frac{Precision \\times Recall}{Precision + Recall} $$\n"
   ],
   "metadata": {
    "collapsed": false
   }
  },
  {
   "cell_type": "code",
   "execution_count": 9,
   "outputs": [],
   "source": [],
   "metadata": {
    "collapsed": false,
    "ExecuteTime": {
     "start_time": "2025-02-17T15:40:35.180849Z",
     "end_time": "2025-02-17T15:40:35.273652Z"
    }
   }
  },
  {
   "cell_type": "code",
   "execution_count": 125,
   "outputs": [],
   "source": [
    "def f1_score (y_pred: list, y_true:list):\n",
    "  \"\"\"\n",
    "    Вычисление Recall\n",
    "\n",
    "    :param y_pred: Массив с предсказанным значением, может быть только 0 или 1\n",
    "    :type y_pred: list\n",
    "    :param y_true: Массив с реальным значением, может быть только 0 или 1\n",
    "    :type y_true: list\n",
    "    :return: F1 score\n",
    "    :rtype: float\n",
    "  \"\"\"\n",
    "  pre = precision(y_pred, y_true)\n",
    "  rc = recall(y_pred, y_true)\n",
    "\n",
    "  return 2 * ((pre * rc) / (pre + rc))"
   ],
   "metadata": {
    "collapsed": false,
    "ExecuteTime": {
     "start_time": "2025-02-17T16:33:55.201005Z",
     "end_time": "2025-02-17T16:33:55.220520Z"
    }
   }
  },
  {
   "cell_type": "code",
   "execution_count": 124,
   "outputs": [
    {
     "name": "stdout",
     "output_type": "stream",
     "text": [
      "Все тесты для функции f1_score прошли успешно!\n"
     ]
    }
   ],
   "source": [
    "def test_f1_score():\n",
    "  a_true_value =       [0, 1, 1, 0, 0, 1]\n",
    "  a_prediction_value = [0, 1, 0, 1, 1, 1]\n",
    "  b_true_value =       [0, 1, 1, 0, 1, 1]\n",
    "  b_prediction_value = [0, 0, 0, 1, 0, 1]\n",
    "  c_true_value =       [1, 1, 0, 0, 1, 0]\n",
    "  c_prediction_value = [0, 0, 1, 1, 1, 1]\n",
    "  try:\n",
    "    assert round(f1_score(a_true_value, a_prediction_value), 2) == 0.57, \"первый провален\"\n",
    "    assert round(f1_score(b_true_value, b_prediction_value), 2) == 0.33, \"второй провален\"\n",
    "    assert round(f1_score(c_true_value, c_prediction_value), 2) == 0.29, \"третий провален\"\n",
    "    print(\"Все тесты для функции f1_score прошли успешно!\")\n",
    "  except AssertionError as e:\n",
    "    print(f\"Тест провален: {e}\")\n",
    "\n",
    "test_f1_score()"
   ],
   "metadata": {
    "collapsed": false,
    "ExecuteTime": {
     "start_time": "2025-02-17T16:33:07.301258Z",
     "end_time": "2025-02-17T16:33:07.320905Z"
    }
   }
  },
  {
   "cell_type": "markdown",
   "source": [
    "### softmax"
   ],
   "metadata": {
    "collapsed": false
   }
  },
  {
   "cell_type": "markdown",
   "source": [
    "$$ softmax = \\frac{e^{z_i}}{\\sum_{j=1}^{K} e^{z_i}} $$"
   ],
   "metadata": {
    "collapsed": false
   }
  },
  {
   "cell_type": "code",
   "execution_count": 143,
   "outputs": [],
   "source": [
    "import numpy as np\n",
    "\n",
    "def softmax(x):\n",
    "  \"\"\"\n",
    "    Вычисление Recall\n",
    "\n",
    "    :param x: Массив\n",
    "    :type x: list\n",
    "    :return: softmax\n",
    "    :rtype: list\n",
    "  \"\"\"\n",
    "  e_x = []\n",
    "  sum_e = 0\n",
    "  # Находим экспоненту каждого элемента массива и сумму этих экспонент\n",
    "  for i in range(len(x)):\n",
    "    e_x.append(np.exp(x[i]))\n",
    "    sum_e += e_x[i]\n",
    "  # Находим вероятности\n",
    "  probability = []\n",
    "  s=0\n",
    "  for i in range(len(e_x)):\n",
    "    probability.append(round((e_x[i] / sum_e), 2))\n",
    "    s+=probability[i]\n",
    "\n",
    "  return probability"
   ],
   "metadata": {
    "collapsed": false,
    "ExecuteTime": {
     "start_time": "2025-02-17T17:06:18.357106Z",
     "end_time": "2025-02-17T17:06:18.375619Z"
    }
   }
  },
  {
   "cell_type": "code",
   "execution_count": 144,
   "outputs": [
    {
     "name": "stdout",
     "output_type": "stream",
     "text": [
      "Все тесты для функции precision прошли успешно!\n"
     ]
    }
   ],
   "source": [
    "def test_softmax():\n",
    "  a_logits = [1, 2, 3, 4]\n",
    "  b_logits = [10, 15, 9, 12]\n",
    "  c_logits = [50, 55, 58, 52]\n",
    "  try:\n",
    "    assert softmax(a_logits) == [0.03, 0.09, 0.24, 0.64], \"первый провален\"\n",
    "    assert softmax(b_logits) == [0.01, 0.94, 0, 0.05], \"второй провален\"\n",
    "    assert softmax(c_logits) == [0, 0.05, 0.95, 0], \"третий провален\"\n",
    "    print(\"Все тесты для функции precision прошли успешно!\")\n",
    "  except AssertionError as e:\n",
    "    print(f\"Тест провален: {e}\")\n",
    "\n",
    "test_softmax()"
   ],
   "metadata": {
    "collapsed": false,
    "ExecuteTime": {
     "start_time": "2025-02-17T17:06:19.924597Z",
     "end_time": "2025-02-17T17:06:19.943017Z"
    }
   }
  },
  {
   "cell_type": "markdown",
   "source": [
    "### Линейный коэффициент корреляции"
   ],
   "metadata": {
    "collapsed": false
   }
  },
  {
   "cell_type": "markdown",
   "source": [
    "\n",
    "$$\n",
    "r = \\frac{n(\\sum XY) - (\\sum X)(\\sum Y)}{\\sqrt{[n \\sum X^2 - (\\sum X)^2][n \\sum Y^2 - (\\sum Y)^2]}}\n",
    "$$\n",
    "\n",
    "Где:\n",
    "- \\( r \\) — коэффициент корреляции,\n",
    "- \\( n \\) — количество наблюдений,\n",
    "- \\( X \\) и \\( Y \\) — значения двух переменных.\n"
   ],
   "metadata": {
    "collapsed": false
   }
  },
  {
   "cell_type": "code",
   "execution_count": 157,
   "outputs": [],
   "source": [
    "def coef_correl(x, y):\n",
    "  \"\"\"\n",
    "    Вычисление линейного коэффициента корреляции\n",
    "\n",
    "    :param x: Массив\n",
    "    :type x: list\n",
    "    :param y: Массив\n",
    "    :type y: list\n",
    "    :return: Линейный коэффициент корреляции\n",
    "    :rtype: list\n",
    "  \"\"\"\n",
    "  sum_x = 0\n",
    "  sum_y = 0\n",
    "  sum_xy = 0\n",
    "  sum_x_2 = 0\n",
    "  sum_y_2 = 0\n",
    "\n",
    "  for i in range(len(x)):\n",
    "    sum_x += x[i]\n",
    "    sum_y += y[i]\n",
    "    sum_xy += x[i] * y[i]\n",
    "    sum_x_2 += x[i] ** 2\n",
    "    sum_y_2 += y[i] ** 2\n",
    "\n",
    "  numerator = len(x) * sum_xy - sum_x * sum_y\n",
    "  denominator = np.sqrt( (len(x) * sum_x_2 - sum_x**2) * (len(x) * sum_y_2 - sum_y**2) )\n",
    "\n",
    "  return numerator/denominator"
   ],
   "metadata": {
    "collapsed": false,
    "ExecuteTime": {
     "start_time": "2025-02-17T17:16:26.303055Z",
     "end_time": "2025-02-17T17:16:26.328132Z"
    }
   }
  },
  {
   "cell_type": "code",
   "execution_count": null,
   "outputs": [],
   "source": [
    "def test_coef_correl():\n",
    "  a_X = [2, 4, 6, 8]\n",
    "  a_Y = [60, 70, 80, 90]\n",
    "  b_X = [0, 2, 4, 6]\n",
    "  b_Y = [90, 80, 70, 60]\n",
    "  c_X = [1, 3, 5, 7]\n",
    "  c_Y = [70, 80, 65, 75]\n",
    "  try:\n",
    "    assert coef_correl(a_X, a_Y) == 1, \"первый провален\"\n",
    "    assert coef_correl(b_X, b_Y) == -1, \"второй провален\"\n",
    "    assert coef_correl(c_X, c_Y) == 0, \"третий провален\"\n",
    "    print(\"Все тесты для функции coef_correl прошли успешно!\")\n",
    "  except AssertionError as e:\n",
    "    print(f\"Тест провален: {e}\")\n",
    "\n",
    "test_coef_correl()"
   ],
   "metadata": {
    "collapsed": false,
    "ExecuteTime": {
     "start_time": "2025-02-17T17:16:30.646277Z",
     "end_time": "2025-02-17T17:16:30.672437Z"
    }
   }
  },
  {
   "cell_type": "markdown",
   "source": [
    "### Функция для вычисления предсказания для нескольких объектов по заданному коэффициентами уравнения линейной регрессии"
   ],
   "metadata": {
    "collapsed": false
   }
  },
  {
   "cell_type": "markdown",
   "source": [
    "Уравнение линейной регрессии\n",
    "$$\n",
    "\\hat{y} = X \\cdot w + b\n",
    "$$\n",
    "\n",
    "Где:\n",
    "-\\(\\hat{y}\\) — предсказанные значения (вектор размера `n × 1`, где `n` — количество объектов),\n",
    "- \\(X\\) — матрица признаков (размера `n × m`, где `m` — количество признаков),\n",
    "- \\(w\\) — вектор коэффициентов (вес признаков, размера \\(m \\times 1\\)),\n",
    "- \\(b\\) — свободный член (скаляр)."
   ],
   "metadata": {
    "collapsed": false
   }
  },
  {
   "cell_type": "code",
   "execution_count": 159,
   "outputs": [],
   "source": [
    "# функция\n",
    "def predict(X, w, b):\n",
    "    \"\"\"\n",
    "    Вычисляет предсказанные значения для линейной регрессии.\n",
    "\n",
    "    :param X: Матрица признаков, где n — количество объектов, m — количество признаков\n",
    "    :type X: numpy.ndarray, форма (n, m)\n",
    "    :param w: Вектор коэффициентов\n",
    "    :type w: numpy.ndarray, форма (m,)\n",
    "    :param b: Свободный член\n",
    "    :type b: float\n",
    "\n",
    "    Возвращает:\n",
    "    :return: Вектор предсказанных значений\n",
    "    :rtype: numpy.ndarray, форма (n,)\n",
    "\n",
    "    \"\"\"\n",
    "\n",
    "    return np.dot(X, w) + b\n"
   ],
   "metadata": {
    "collapsed": false,
    "ExecuteTime": {
     "start_time": "2025-02-17T18:02:03.553435Z",
     "end_time": "2025-02-17T18:02:03.567434Z"
    }
   }
  },
  {
   "cell_type": "code",
   "execution_count": 160,
   "outputs": [
    {
     "ename": "ValueError",
     "evalue": "The truth value of an array with more than one element is ambiguous. Use a.any() or a.all()",
     "output_type": "error",
     "traceback": [
      "\u001B[1;31m---------------------------------------------------------------------------\u001B[0m",
      "\u001B[1;31mValueError\u001B[0m                                Traceback (most recent call last)",
      "Cell \u001B[1;32mIn[160], line 11\u001B[0m\n\u001B[0;32m      8\u001B[0m   \u001B[38;5;28;01mexcept\u001B[39;00m \u001B[38;5;167;01mAssertionError\u001B[39;00m \u001B[38;5;28;01mas\u001B[39;00m e:\n\u001B[0;32m      9\u001B[0m     \u001B[38;5;28mprint\u001B[39m(\u001B[38;5;124mf\u001B[39m\u001B[38;5;124m\"\u001B[39m\u001B[38;5;124mТест провален: \u001B[39m\u001B[38;5;132;01m{\u001B[39;00me\u001B[38;5;132;01m}\u001B[39;00m\u001B[38;5;124m\"\u001B[39m)\n\u001B[1;32m---> 11\u001B[0m \u001B[43mtest_predict\u001B[49m\u001B[43m(\u001B[49m\u001B[43m)\u001B[49m\n",
      "Cell \u001B[1;32mIn[160], line 6\u001B[0m, in \u001B[0;36mtest_predict\u001B[1;34m()\u001B[0m\n\u001B[0;32m      4\u001B[0m b \u001B[38;5;241m=\u001B[39m \u001B[38;5;241m1.0\u001B[39m  \u001B[38;5;66;03m# Свободный член\u001B[39;00m\n\u001B[0;32m      5\u001B[0m \u001B[38;5;28;01mtry\u001B[39;00m:\n\u001B[1;32m----> 6\u001B[0m   \u001B[38;5;28;01massert\u001B[39;00m predict(X, w, b) \u001B[38;5;241m==\u001B[39m [\u001B[38;5;241m0.5\u001B[39m, \u001B[38;5;241m2.5\u001B[39m, \u001B[38;5;241m4.5\u001B[39m], \u001B[38;5;124m\"\u001B[39m\u001B[38;5;124mпервый провален\u001B[39m\u001B[38;5;124m\"\u001B[39m\n\u001B[0;32m      7\u001B[0m   \u001B[38;5;28mprint\u001B[39m(\u001B[38;5;124m\"\u001B[39m\u001B[38;5;124mВсе тесты для функции predict прошли успешно!\u001B[39m\u001B[38;5;124m\"\u001B[39m)\n\u001B[0;32m      8\u001B[0m \u001B[38;5;28;01mexcept\u001B[39;00m \u001B[38;5;167;01mAssertionError\u001B[39;00m \u001B[38;5;28;01mas\u001B[39;00m e:\n",
      "\u001B[1;31mValueError\u001B[0m: The truth value of an array with more than one element is ambiguous. Use a.any() or a.all()"
     ]
    }
   ],
   "source": [
    "def test_predict():\n",
    "  X = np.array([[1, 2], [3, 4], [5, 6]])  # 3 объекта, 2 признака\n",
    "  w = np.array([0.5, -0.5])  # Вектор коэффициентов\n",
    "  b = 1.0  # Свободный член\n",
    "  try:\n",
    "    assert predict(X, w, b) == [0.5, 2.5, 4.5], \"первый провален\"\n",
    "    print(\"Все тесты для функции predict прошли успешно!\")\n",
    "  except AssertionError as e:\n",
    "    print(f\"Тест провален: {e}\")\n",
    "\n",
    "test_predict()"
   ],
   "metadata": {
    "collapsed": false
   }
  },
  {
   "cell_type": "markdown",
   "source": [],
   "metadata": {
    "collapsed": false
   }
  }
 ],
 "metadata": {
  "kernelspec": {
   "display_name": "Python 3",
   "language": "python",
   "name": "python3"
  },
  "language_info": {
   "codemirror_mode": {
    "name": "ipython",
    "version": 2
   },
   "file_extension": ".py",
   "mimetype": "text/x-python",
   "name": "python",
   "nbconvert_exporter": "python",
   "pygments_lexer": "ipython2",
   "version": "2.7.6"
  },
  "colab": {
   "provenance": []
  }
 },
 "nbformat": 4,
 "nbformat_minor": 0
}
