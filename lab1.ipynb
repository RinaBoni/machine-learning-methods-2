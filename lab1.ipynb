{
 "cells": [
  {
   "cell_type": "code",
   "source": [
    "# Создание массива для проверки\n",
    "import numpy as np\n",
    "\n",
    "\n",
    "mean = 165  # Средний рост\n",
    "std_dev = 10  # Стандартное отклонение\n",
    "size = 100   # Количество элементов в массиве\n",
    "\n",
    "# Генерация массива с ростом женщин\n",
    "heights = np.random.normal(mean, std_dev, size)\n",
    "\n",
    "# Округление значений до целых чисел\n",
    "heights = np.round(heights).astype(int)\n",
    "\n",
    "print(heights)\n",
    "print(type(heights))"
   ],
   "metadata": {
    "id": "8M4FBDb0NNsK",
    "outputId": "8c184b0c-9dfb-43f9-f5c6-d9d2b8577bba",
    "colab": {
     "base_uri": "https://localhost:8080/"
    },
    "ExecuteTime": {
     "start_time": "2025-03-10T22:11:36.215096Z",
     "end_time": "2025-03-10T22:11:36.463457Z"
    }
   },
   "execution_count": 20,
   "outputs": [
    {
     "name": "stdout",
     "output_type": "stream",
     "text": [
      "[160 168 152 149 151 147 152 177 144 187 176 150 146 166 168 158 174 164\n",
      " 171 158 162 163 157 159 171 167 166 167 169 163 179 172 164 172 164 169\n",
      " 179 155 158 165 164 149 163 154 169 173 165 156 181 147 175 160 165 156\n",
      " 162 159 157 168 173 177 134 163 172 177 168 177 155 154 140 172 168 165\n",
      " 149 167 174 165 161 165 161 166 166 169 160 163 179 172 163 150 164 158\n",
      " 167 173 178 177 166 171 166 159 170 174]\n",
      "<class 'numpy.ndarray'>\n"
     ]
    }
   ]
  },
  {
   "cell_type": "markdown",
   "source": [
    "### Функция для вычисления стандартного отклонения случайной величины;"
   ],
   "metadata": {
    "id": "7HTAjcHyNI_j"
   }
  },
  {
   "cell_type": "markdown",
   "source": [
    "#### Среднее значение"
   ],
   "metadata": {
    "collapsed": false
   }
  },
  {
   "cell_type": "markdown",
   "source": [
    "$$ M(X) = \\sum \\limits_{i=1}^{n} \\frac{x_i}{n} $$"
   ],
   "metadata": {
    "id": "4sGpSvZ3ug_Y"
   }
  },
  {
   "cell_type": "code",
   "source": [
    "def mean(x):\n",
    "  \"\"\"\n",
    "    Вычисление среднего числа по массиву\n",
    "\n",
    "    :param x: Массив\n",
    "    :type x: список, np.ndarray\n",
    "    :return: Среднее\n",
    "    :rtype: float\n",
    "  \"\"\"\n",
    "  sum = 0\n",
    "  for i in range(len(x)):\n",
    "    sum += x[i]\n",
    "  return sum / len(x)"
   ],
   "metadata": {
    "id": "vR-S7DzrR3xj",
    "ExecuteTime": {
     "start_time": "2025-03-10T22:11:36.249604Z",
     "end_time": "2025-03-10T22:11:36.601488Z"
    }
   },
   "execution_count": 21,
   "outputs": []
  },
  {
   "cell_type": "code",
   "execution_count": 21,
   "outputs": [],
   "source": [],
   "metadata": {
    "collapsed": false,
    "ExecuteTime": {
     "start_time": "2025-03-10T22:11:36.253849Z",
     "end_time": "2025-03-10T22:11:36.601488Z"
    }
   }
  },
  {
   "cell_type": "code",
   "execution_count": 22,
   "outputs": [
    {
     "name": "stdout",
     "output_type": "stream",
     "text": [
      "Все тесты для функции mean прошли успешно!\n"
     ]
    }
   ],
   "source": [
    "def test_mean():\n",
    "  a = [1, 2, 3]\n",
    "  b = [4, 5, 6]\n",
    "  c = [33, 44, 55]\n",
    "  try:\n",
    "    assert mean(a) == 2, \"первый провален\"\n",
    "    assert mean(b) == 5, \"второй провален\"\n",
    "    assert mean(c) == 44, \"третий провален\"\n",
    "    print(\"Все тесты для функции mean прошли успешно!\")\n",
    "  except AssertionError as e:\n",
    "    print(f\"Тест провален: {e}\")\n",
    "\n",
    "test_mean()"
   ],
   "metadata": {
    "collapsed": false,
    "ExecuteTime": {
     "start_time": "2025-03-10T22:11:36.256702Z",
     "end_time": "2025-03-10T22:11:36.602489Z"
    }
   }
  },
  {
   "cell_type": "markdown",
   "source": [
    "#### Дисперсия\n",
    "\n",
    "\n",
    "дописать функ и тест"
   ],
   "metadata": {
    "collapsed": false
   }
  },
  {
   "cell_type": "markdown",
   "source": [
    "$$ s^2 = \\frac{1}{n} \\sum_{i=1}^{n} (x_i - \\bar{x})^2 $$\n",
    "\n",
    "Где:\n",
    "- $\\(s^2\\)$ — дисперсия выборки,\n",
    "- $\\(n\\)$ — количество элементов в выборке,\n",
    "- $\\(x_i\\)$ — каждое значение в выборке,\n",
    "- $\\(\\bar{x}\\)$ — среднее значение выборки.\n"
   ],
   "metadata": {
    "collapsed": false
   }
  },
  {
   "cell_type": "code",
   "source": [
    "def variance_one(x: np.ndarray):\n",
    "  \"\"\"\n",
    "    Вычисление дисперсии\n",
    "\n",
    "    :param x: Массив\n",
    "    :type x: np.ndarray\n",
    "    :return: Дисперсия\n",
    "    :rtype: float\n",
    "  \"\"\"\n",
    "  mu = mean(x)\n",
    "  sum = ((x - mu) ** 2).sum()\n",
    "  return sum / len(x)"
   ],
   "metadata": {
    "id": "H_uu6EqZVBLa",
    "ExecuteTime": {
     "start_time": "2025-03-10T22:11:36.266451Z",
     "end_time": "2025-03-10T22:11:36.631014Z"
    }
   },
   "execution_count": 23,
   "outputs": []
  },
  {
   "cell_type": "code",
   "execution_count": 24,
   "outputs": [],
   "source": [
    "def variance_two(x: np.ndarray):\n",
    "  \"\"\"\n",
    "    Вычисление дисперсии\n",
    "\n",
    "    :param x: Массив\n",
    "    :type x: np.ndarray\n",
    "    :return: Дисперсия\n",
    "    :rtype: float\n",
    "  \"\"\"\n",
    "  mu = mean(x)\n",
    "  sum = 0\n",
    "\n",
    "  for i in range(len(x)):\n",
    "    sum += (x[i] - mu) ** 2\n",
    "\n",
    "  return sum / len(x)"
   ],
   "metadata": {
    "collapsed": false,
    "ExecuteTime": {
     "start_time": "2025-03-10T22:11:36.272740Z",
     "end_time": "2025-03-10T22:11:36.645490Z"
    }
   }
  },
  {
   "cell_type": "code",
   "execution_count": 25,
   "outputs": [
    {
     "name": "stdout",
     "output_type": "stream",
     "text": [
      "Все тесты для функции variance_one прошли успешно!\n"
     ]
    }
   ],
   "source": [
    "def test_variance_one():\n",
    "  a =  np.array([1, 2])\n",
    "  b = np.array([4, 5, 6])\n",
    "  c = np.array([33, 44, 55])\n",
    "  try:\n",
    "    assert round(variance_one(a), 2) == 0.25, \"первый провален\"\n",
    "    assert round(variance_one(b), 2) == 0.67, \"второй провален\"\n",
    "    assert round(variance_one(c), 2) == 80.67, \"третий провален\"\n",
    "    print(\"Все тесты для функции variance_one прошли успешно!\")\n",
    "  except AssertionError as e:\n",
    "    print(f\"Тест провален: {e}\")\n",
    "\n",
    "test_variance_one()"
   ],
   "metadata": {
    "collapsed": false,
    "ExecuteTime": {
     "start_time": "2025-03-10T22:11:36.278613Z",
     "end_time": "2025-03-10T22:11:36.646490Z"
    }
   }
  },
  {
   "cell_type": "code",
   "execution_count": 26,
   "outputs": [
    {
     "name": "stdout",
     "output_type": "stream",
     "text": [
      "Все тесты для функции variance_two прошли успешно!\n"
     ]
    }
   ],
   "source": [
    "def test_variance_two():\n",
    "  a = [1, 2]\n",
    "  b = [4, 5, 6]\n",
    "  c = [33, 44, 55]\n",
    "  try:\n",
    "    assert round(variance_two(a), 2) == 0.25, \"первый провален\"\n",
    "    assert round(variance_two(b), 2) == 0.67, \"второй провален\"\n",
    "    assert round(variance_two(c), 2) == 80.67, \"третий провален\"\n",
    "    print(\"Все тесты для функции variance_two прошли успешно!\")\n",
    "  except AssertionError as e:\n",
    "    print(f\"Тест провален: {e}\")\n",
    "\n",
    "test_variance_two()"
   ],
   "metadata": {
    "collapsed": false,
    "ExecuteTime": {
     "start_time": "2025-03-10T22:11:36.283480Z",
     "end_time": "2025-03-10T22:11:36.646490Z"
    }
   }
  },
  {
   "cell_type": "markdown",
   "source": [
    "#### Стандартное отклонение случайной величины"
   ],
   "metadata": {
    "collapsed": false
   }
  },
  {
   "cell_type": "markdown",
   "source": [
    "$$\\[\n",
    "\\sigma = \\sqrt{\\frac{1}{n} \\sum_{i=1}^{n} (x_i - \\mu)^2}\n",
    "\\]$$\n",
    "\n",
    "где:\n",
    "- $\\( \\sigma \\)$ — стандартное отклонение,\n",
    "- $\\( n \\)$ — количество элементов,\n",
    "- $\\( x_i \\)$ — i-й элемент,\n",
    "- $\\( \\mu \\)$ — среднее значение.\n"
   ],
   "metadata": {
    "collapsed": false
   }
  },
  {
   "cell_type": "code",
   "source": [
    "def standard_deviation(x: np.ndarray):\n",
    "  \"\"\"\n",
    "    Вычисление среднего отклонения\n",
    "\n",
    "    :param x: Массив\n",
    "    :type x: np.ndarray\n",
    "    :return: Среднее отклонение\n",
    "    :rtype: float\n",
    "  \"\"\"\n",
    "  return np.sqrt(variance_two(x))"
   ],
   "metadata": {
    "id": "-xDOul1cYYhC",
    "ExecuteTime": {
     "start_time": "2025-03-10T22:11:36.295482Z",
     "end_time": "2025-03-10T22:11:36.648497Z"
    }
   },
   "execution_count": 27,
   "outputs": []
  },
  {
   "cell_type": "code",
   "execution_count": 28,
   "outputs": [
    {
     "name": "stdout",
     "output_type": "stream",
     "text": [
      "Все тесты для функции standard_deviation прошли успешно!\n"
     ]
    }
   ],
   "source": [
    "def test_standard_deviation():\n",
    "  a = [1, 2]\n",
    "  b = [4, 5, 6]\n",
    "  c = [33, 44, 55]\n",
    "  try:\n",
    "    assert round(standard_deviation(a), 2) == 0.5, \"первый провален\"\n",
    "    assert round(standard_deviation(b), 2) == 0.82, \"второй провален\"\n",
    "    assert round(standard_deviation(c), 2) == 8.98, \"третий провален\"\n",
    "    print(\"Все тесты для функции standard_deviation прошли успешно!\")\n",
    "  except AssertionError as e:\n",
    "    print(f\"Тест провален: {e}\")\n",
    "\n",
    "test_standard_deviation()"
   ],
   "metadata": {
    "collapsed": false,
    "ExecuteTime": {
     "start_time": "2025-03-10T22:11:36.298291Z",
     "end_time": "2025-03-10T22:11:36.648497Z"
    }
   }
  },
  {
   "cell_type": "markdown",
   "source": [
    "### Функции для вычисления ошибок MSE, MAE, accuracy, precision, recall, f1 score.\n",
    "\n",
    "Функции должны принимать два параметра y_pred, y_true.\n",
    "\n",
    "См. аналогичные функции из библиотеки sklearn;"
   ],
   "metadata": {
    "id": "o5yglNNgaNkJ"
   }
  },
  {
   "cell_type": "markdown",
   "source": [
    "#### Среднеквадратическая ошибка (MSE)"
   ],
   "metadata": {
    "id": "ROLMZuPjvW-v"
   }
  },
  {
   "cell_type": "markdown",
   "source": [
    "$$ MSE = \\frac{1}{n} \\sum_{i=1}^{n} (y_i - \\hat{y}_i)^2 $$\n",
    "\n",
    "Где:\n",
    "- $\\( y_i \\)$ — реальное значение,\n",
    "- $\\( \\hat{y}_i \\)$ — предсказанное значение,\n",
    "- $\\( n \\)$ — количество примеров."
   ],
   "metadata": {
    "collapsed": false
   }
  },
  {
   "cell_type": "code",
   "source": [
    "def mean_squared_error(y_pred: list, y_true:list):\n",
    "  \"\"\"\n",
    "    Вычисление среднеквадратической ошибки\n",
    "\n",
    "    :param y_pred: Массив с предсказанным значением\n",
    "    :type y_pred: list\n",
    "    :param y_true: Массив с реальным значением\n",
    "    :type y_true: list\n",
    "    :return: Среднеквадратическая ошибка\n",
    "    :rtype: float\n",
    "  \"\"\"\n",
    "  difference = []\n",
    "\n",
    "  for i in range(len(y_true)):\n",
    "    difference.append((y_true[i] - y_pred[i]) ** 2)\n",
    "\n",
    "  mean_val = mean(x=difference)\n",
    "  return mean_val"
   ],
   "metadata": {
    "id": "q6gOf8srab2a",
    "outputId": "15c81088-33d1-4d7a-ce56-c1ec53ccb4d3",
    "colab": {
     "base_uri": "https://localhost:8080/"
    },
    "ExecuteTime": {
     "start_time": "2025-03-10T22:11:36.319079Z",
     "end_time": "2025-03-10T22:11:36.663494Z"
    }
   },
   "execution_count": 29,
   "outputs": []
  },
  {
   "cell_type": "code",
   "execution_count": 30,
   "outputs": [
    {
     "name": "stdout",
     "output_type": "stream",
     "text": [
      "Все тесты для функции mean_squared_error прошли успешно!\n"
     ]
    }
   ],
   "source": [
    "def test_mean_squared_error():\n",
    "  a_true_value = [110, 200, 300]\n",
    "  a_prediction_value = [90, 210, 290]\n",
    "  b_true_value = [110, 280, 280]\n",
    "  b_prediction_value = [130, 260, 320]\n",
    "  c_true_value = [800, 560, 850]\n",
    "  c_prediction_value = [750, 560, 880]\n",
    "  try:\n",
    "    assert round(mean_squared_error(a_true_value, a_prediction_value), 2) == 200, \"первый провален\"\n",
    "    assert round(mean_squared_error(b_true_value, b_prediction_value), 2) == 800, \"второй провален\"\n",
    "    assert round(mean_squared_error(c_true_value, c_prediction_value), 2) == 1133.33, \"третий провален\"\n",
    "    print(\"Все тесты для функции mean_squared_error прошли успешно!\")\n",
    "  except AssertionError as e:\n",
    "    print(f\"Тест провален: {e}\")\n",
    "\n",
    "test_mean_squared_error()"
   ],
   "metadata": {
    "collapsed": false,
    "ExecuteTime": {
     "start_time": "2025-03-10T22:11:36.327615Z",
     "end_time": "2025-03-10T22:11:36.664494Z"
    }
   }
  },
  {
   "cell_type": "markdown",
   "source": [
    "#### Средняя абсолютная ошибка (MAE)"
   ],
   "metadata": {
    "id": "yNEMs8awzAPH"
   }
  },
  {
   "cell_type": "markdown",
   "source": [
    "$$ MAE = \\frac{1}{n} \\sum_{i=1}^{n} |y_i - \\hat{y}_i| $$\n",
    "\n",
    "Где:\n",
    "- $\\( y_i \\)$ — реальное значение,\n",
    "- $\\( \\hat{y}_i \\)$ — предсказанное значение,\n",
    "- $\\( n \\)$ — количество примеров."
   ],
   "metadata": {
    "collapsed": false
   }
  },
  {
   "cell_type": "code",
   "source": [
    "def mean_absolute_error(y_pred: list, y_true:list):\n",
    "  \"\"\"\n",
    "    Вычисление средней абсолютной ошибки\n",
    "\n",
    "    :param y_pred: Массив с предсказанным значением\n",
    "    :type y_pred: list\n",
    "    :param y_true: Массив с реальным значением\n",
    "    :type y_true: list\n",
    "    :return: Средняя абсолютная ошибка\n",
    "    :rtype: float\n",
    "  \"\"\"\n",
    "  difference = []\n",
    "  n = len(y_true)\n",
    "\n",
    "  for i in range(n):\n",
    "    difference.append(abs(y_true[i] - y_pred[i]))\n",
    "\n",
    "\n",
    "  mean_val = mean(x=difference)\n",
    "  return mean_val"
   ],
   "metadata": {
    "id": "aqJuLl3p2He-",
    "ExecuteTime": {
     "start_time": "2025-03-10T22:11:36.335220Z",
     "end_time": "2025-03-10T22:11:36.666495Z"
    }
   },
   "execution_count": 31,
   "outputs": []
  },
  {
   "cell_type": "code",
   "execution_count": 32,
   "outputs": [
    {
     "name": "stdout",
     "output_type": "stream",
     "text": [
      "Все тесты для функции mean_absolute_error прошли успешно!\n"
     ]
    }
   ],
   "source": [
    "def test_mean_absolute_error():\n",
    "  a_true_value = [120, 200, 300]\n",
    "  a_prediction_value = [90, 210, 290]\n",
    "  b_true_value = [110, 280, 280]\n",
    "  b_prediction_value = [130, 260, 320]\n",
    "  c_true_value = [800, 560, 850]\n",
    "  c_prediction_value = [750, 560, 880]\n",
    "  try:\n",
    "    assert round(mean_absolute_error(a_true_value, a_prediction_value), 2) == 16.67, \"первый провален\"\n",
    "    assert round(mean_absolute_error(b_true_value, b_prediction_value), 2) == 26.67, \"второй провален\"\n",
    "    assert round(mean_absolute_error(c_true_value, c_prediction_value), 2) == 26.67, \"третий провален\"\n",
    "    print(\"Все тесты для функции mean_absolute_error прошли успешно!\")\n",
    "  except AssertionError as e:\n",
    "    print(f\"Тест провален: {e}\")\n",
    "\n",
    "test_mean_absolute_error()"
   ],
   "metadata": {
    "collapsed": false,
    "ExecuteTime": {
     "start_time": "2025-03-10T22:11:36.342029Z",
     "end_time": "2025-03-10T22:11:36.666495Z"
    }
   }
  },
  {
   "cell_type": "markdown",
   "source": [
    "#### Accuracy"
   ],
   "metadata": {
    "id": "BCyFqXCULsde"
   }
  },
  {
   "cell_type": "markdown",
   "source": [
    "$$ Accuracy =  \\frac{TP + TN}{TP + TN + FP + FN} $$\n",
    "\n",
    "Где:\n",
    "- $TP$ — True Positive,\n",
    "- $TN$ — True Negative,\n",
    "- $FP$ — False Positive,\n",
    "- $FN$ — False Negative."
   ],
   "metadata": {
    "collapsed": false
   }
  },
  {
   "cell_type": "code",
   "source": [
    "def accuracy(y_pred: list, y_true:list):\n",
    "  \"\"\"\n",
    "    Вычисление accuracy\n",
    "\n",
    "    :param y_pred: Массив с предсказанным значением\n",
    "    :type y_pred: list\n",
    "    :param y_true: Массив с реальным значением\n",
    "    :type y_true: list\n",
    "    :return: accuracy\n",
    "    :rtype: float\n",
    "  \"\"\"\n",
    "  T = 0\n",
    "  n = len(y_true)\n",
    "\n",
    "  for i in range(len(y_true)):\n",
    "    if y_true[i] == y_pred[i]:\n",
    "      T += 1\n",
    "\n",
    "  return T/len(y_true)"
   ],
   "metadata": {
    "colab": {
     "base_uri": "https://localhost:8080/"
    },
    "id": "jB9I89mcNcX7",
    "outputId": "0b6876d6-fc6a-4efa-a89d-6977cf909576",
    "ExecuteTime": {
     "start_time": "2025-03-10T22:11:36.351291Z",
     "end_time": "2025-03-10T22:11:36.668497Z"
    }
   },
   "execution_count": 33,
   "outputs": []
  },
  {
   "cell_type": "code",
   "execution_count": 34,
   "outputs": [
    {
     "name": "stdout",
     "output_type": "stream",
     "text": [
      "Все тесты для функции accuracy прошли успешно!\n"
     ]
    }
   ],
   "source": [
    "def test_accuracy():\n",
    "  a_true_value =       [0, 1, 1, 0, 0, 1]\n",
    "  a_prediction_value = [0, 1, 0, 1, 1, 1]\n",
    "  b_true_value =       [0, 1, 1, 0, 1, 1]\n",
    "  b_prediction_value = [0, 0, 0, 1, 0, 1]\n",
    "  c_true_value =       [1, 1, 0, 0, 1, 0]\n",
    "  c_prediction_value = [0, 0, 1, 1, 1, 1]\n",
    "  try:\n",
    "    assert round(accuracy(a_true_value, a_prediction_value), 2) == 0.5, \"первый провален\"\n",
    "    assert round(accuracy(b_true_value, b_prediction_value), 2) == 0.33, \"второй провален\"\n",
    "    assert round(accuracy(c_true_value, c_prediction_value), 2) == 0.17, \"третий провален\"\n",
    "    print(\"Все тесты для функции accuracy прошли успешно!\")\n",
    "  except AssertionError as e:\n",
    "    print(f\"Тест провален: {e}\")\n",
    "\n",
    "test_accuracy()"
   ],
   "metadata": {
    "collapsed": false,
    "ExecuteTime": {
     "start_time": "2025-03-10T22:11:36.357899Z",
     "end_time": "2025-03-10T22:11:36.669495Z"
    }
   }
  },
  {
   "cell_type": "markdown",
   "source": [
    "#### Precision"
   ],
   "metadata": {
    "collapsed": false
   }
  },
  {
   "cell_type": "markdown",
   "source": [
    "$$ Precision =  \\frac{TP}{TP + FP} $$"
   ],
   "metadata": {
    "collapsed": false
   }
  },
  {
   "cell_type": "code",
   "source": [
    "def precision (y_pred: list, y_true:list):\n",
    "  \"\"\"\n",
    "    Вычисление precision, считает только для positive\n",
    "\n",
    "    :param y_pred: Массив с предсказанным значением, может быть только 0 или 1\n",
    "    :type y_pred: list\n",
    "    :param y_true: Массив с реальным значением, может быть только 0 или 1\n",
    "    :type y_true: list\n",
    "    :return: precision\n",
    "    :rtype: float\n",
    "  \"\"\"\n",
    "  TP = 0\n",
    "  TN = 0\n",
    "  FP = 0\n",
    "  FN = 0\n",
    "  n = len(y_true)\n",
    "\n",
    "  for i in range(len(y_true)):\n",
    "    if y_true[i] == y_pred[i] and y_true[i] == 0:\n",
    "      TN += 1\n",
    "    elif y_true[i] == y_pred[i] and y_true[i] == 1:\n",
    "      TP += 1\n",
    "    elif y_true[i] > y_pred[i]:\n",
    "      FN += 1\n",
    "    elif y_true[i] < y_pred[i]:\n",
    "      FP += 1\n",
    "\n",
    "  return TP/(TP + FP)"
   ],
   "metadata": {
    "id": "IoY4WDlvO-Nc",
    "ExecuteTime": {
     "start_time": "2025-03-10T22:11:36.368679Z",
     "end_time": "2025-03-10T22:11:36.671495Z"
    }
   },
   "execution_count": 35,
   "outputs": []
  },
  {
   "cell_type": "code",
   "execution_count": 36,
   "outputs": [
    {
     "name": "stdout",
     "output_type": "stream",
     "text": [
      "Все тесты для функции precision прошли успешно!\n"
     ]
    }
   ],
   "source": [
    "def test_precision():\n",
    "  a_true_value =       [0, 1, 1, 0, 0, 1]\n",
    "  a_prediction_value = [0, 1, 0, 1, 1, 1]\n",
    "  b_true_value =       [0, 1, 1, 0, 1, 1]\n",
    "  b_prediction_value = [0, 0, 0, 1, 0, 1]\n",
    "  c_true_value =       [1, 1, 0, 0, 1, 0]\n",
    "  c_prediction_value = [0, 0, 1, 1, 1, 1]\n",
    "  try:\n",
    "    assert round(precision(a_true_value, a_prediction_value), 2) == 0.67, \"первый провален\"\n",
    "    assert round(precision(b_true_value, b_prediction_value), 2) == 0.25, \"второй провален\"\n",
    "    assert round(precision(c_true_value, c_prediction_value), 2) == 0.33, \"третий провален\"\n",
    "    print(\"Все тесты для функции precision прошли успешно!\")\n",
    "  except AssertionError as e:\n",
    "    print(f\"Тест провален: {e}\")\n",
    "\n",
    "test_precision()"
   ],
   "metadata": {
    "collapsed": false,
    "ExecuteTime": {
     "start_time": "2025-03-10T22:11:36.372176Z",
     "end_time": "2025-03-10T22:11:36.671495Z"
    }
   }
  },
  {
   "cell_type": "markdown",
   "source": [
    "#### Recall"
   ],
   "metadata": {
    "id": "XEx6ZW6bNTKL"
   }
  },
  {
   "cell_type": "markdown",
   "source": [
    "$$ Recall =  \\frac{TP}{TP + FN} $$"
   ],
   "metadata": {
    "collapsed": false
   }
  },
  {
   "cell_type": "code",
   "execution_count": 37,
   "outputs": [],
   "source": [
    "def recall (y_pred: list, y_true:list):\n",
    "  \"\"\"\n",
    "    Вычисление Recall, считает только для positive\n",
    "\n",
    "    :param y_pred: Массив с предсказанным значением, может быть только 0 или 1\n",
    "    :type y_pred: list\n",
    "    :param y_true: Массив с реальным значением, может быть только 0 или 1\n",
    "    :type y_true: list\n",
    "    :return: recall\n",
    "    :rtype: float\n",
    "  \"\"\"\n",
    "  TP = 0\n",
    "  TN = 0\n",
    "  FP = 0\n",
    "  FN = 0\n",
    "  n = len(y_true)\n",
    "\n",
    "  for i in range(len(y_true)):\n",
    "    if y_true[i] == y_pred[i] and y_true[i] == 0:\n",
    "      TN += 1\n",
    "    elif y_true[i] == y_pred[i] and y_true[i] == 1:\n",
    "      TP += 1\n",
    "    elif y_true[i] > y_pred[i]:\n",
    "      FN += 1\n",
    "    elif y_true[i] < y_pred[i]:\n",
    "      FP += 1\n",
    "\n",
    "  return TP/(TP + FN)"
   ],
   "metadata": {
    "collapsed": false,
    "ExecuteTime": {
     "start_time": "2025-03-10T22:11:36.382472Z",
     "end_time": "2025-03-10T22:11:36.674316Z"
    }
   }
  },
  {
   "cell_type": "code",
   "execution_count": 38,
   "outputs": [
    {
     "name": "stdout",
     "output_type": "stream",
     "text": [
      "Все тесты для функции recall прошли успешно!\n"
     ]
    }
   ],
   "source": [
    "def test_recall():\n",
    "  a_true_value =       [0, 1, 1, 0, 0, 1]\n",
    "  a_prediction_value = [0, 1, 0, 1, 1, 1]\n",
    "  b_true_value =       [0, 1, 1, 0, 1, 1]\n",
    "  b_prediction_value = [0, 0, 0, 1, 0, 1]\n",
    "  c_true_value =       [1, 1, 0, 0, 1, 0]\n",
    "  c_prediction_value = [0, 0, 1, 1, 1, 1]\n",
    "  try:\n",
    "    assert round(recall(a_true_value, a_prediction_value), 2) == 0.5, \"первый провален\"\n",
    "    assert round(recall(b_true_value, b_prediction_value), 2) == 0.5, \"второй провален\"\n",
    "    assert round(recall(c_true_value, c_prediction_value), 2) == 0.25, \"третий провален\"\n",
    "    print(\"Все тесты для функции recall прошли успешно!\")\n",
    "  except AssertionError as e:\n",
    "    print(f\"Тест провален: {e}\")\n",
    "\n",
    "test_recall()"
   ],
   "metadata": {
    "collapsed": false,
    "ExecuteTime": {
     "start_time": "2025-03-10T22:11:36.389018Z",
     "end_time": "2025-03-10T22:11:36.674316Z"
    }
   }
  },
  {
   "cell_type": "markdown",
   "source": [
    "#### F1 score"
   ],
   "metadata": {
    "id": "BkV5PucNNWeb"
   }
  },
  {
   "cell_type": "markdown",
   "source": [
    "\n",
    "$$ F1 = 2 \\times \\frac{Precision \\times Recall}{Precision + Recall} $$\n"
   ],
   "metadata": {
    "collapsed": false
   }
  },
  {
   "cell_type": "code",
   "execution_count": 38,
   "outputs": [],
   "source": [],
   "metadata": {
    "collapsed": false,
    "ExecuteTime": {
     "start_time": "2025-03-10T22:11:36.400293Z",
     "end_time": "2025-03-10T22:11:36.689319Z"
    }
   }
  },
  {
   "cell_type": "code",
   "execution_count": 39,
   "outputs": [],
   "source": [
    "def f1_score (y_pred: list, y_true:list):\n",
    "  \"\"\"\n",
    "    Вычисление Recall, считает только для positive\n",
    "\n",
    "    :param y_pred: Массив с предсказанным значением, может быть только 0 или 1\n",
    "    :type y_pred: list\n",
    "    :param y_true: Массив с реальным значением, может быть только 0 или 1\n",
    "    :type y_true: list\n",
    "    :return: F1 score\n",
    "    :rtype: float\n",
    "  \"\"\"\n",
    "  pre = precision(y_pred, y_true)\n",
    "  rc = recall(y_pred, y_true)\n",
    "\n",
    "  return 2 * ((pre * rc) / (pre + rc))"
   ],
   "metadata": {
    "collapsed": false,
    "ExecuteTime": {
     "start_time": "2025-03-10T22:11:36.403317Z",
     "end_time": "2025-03-10T22:11:36.689319Z"
    }
   }
  },
  {
   "cell_type": "code",
   "execution_count": 40,
   "outputs": [
    {
     "name": "stdout",
     "output_type": "stream",
     "text": [
      "Все тесты для функции f1_score прошли успешно!\n"
     ]
    }
   ],
   "source": [
    "def test_f1_score():\n",
    "  a_true_value =       [0, 1, 1, 0, 0, 1]\n",
    "  a_prediction_value = [0, 1, 0, 1, 1, 1]\n",
    "  b_true_value =       [0, 1, 1, 0, 1, 1]\n",
    "  b_prediction_value = [0, 0, 0, 1, 0, 1]\n",
    "  c_true_value =       [1, 1, 0, 0, 1, 0]\n",
    "  c_prediction_value = [0, 0, 1, 1, 1, 1]\n",
    "  try:\n",
    "    assert round(f1_score(a_true_value, a_prediction_value), 2) == 0.57, \"первый провален\"\n",
    "    assert round(f1_score(b_true_value, b_prediction_value), 2) == 0.33, \"второй провален\"\n",
    "    assert round(f1_score(c_true_value, c_prediction_value), 2) == 0.29, \"третий провален\"\n",
    "    print(\"Все тесты для функции f1_score прошли успешно!\")\n",
    "  except AssertionError as e:\n",
    "    print(f\"Тест провален: {e}\")\n",
    "\n",
    "test_f1_score()"
   ],
   "metadata": {
    "collapsed": false,
    "ExecuteTime": {
     "start_time": "2025-03-10T22:11:36.409229Z",
     "end_time": "2025-03-10T22:11:36.691320Z"
    }
   }
  },
  {
   "cell_type": "markdown",
   "source": [
    "### softmax"
   ],
   "metadata": {
    "collapsed": false
   }
  },
  {
   "cell_type": "markdown",
   "source": [
    "$$ softmax = \\frac{e^{z_i}}{\\sum_{j=1}^{K} e^{z_i}} $$"
   ],
   "metadata": {
    "collapsed": false
   }
  },
  {
   "cell_type": "code",
   "execution_count": 41,
   "outputs": [],
   "source": [
    "import numpy as np\n",
    "\n",
    "def softmax(x):\n",
    "  \"\"\"\n",
    "    Вычисление Softmax\n",
    "\n",
    "    :param x: Массив\n",
    "    :type x: list\n",
    "    :return: softmax\n",
    "    :rtype: list\n",
    "  \"\"\"\n",
    "  e_x = []\n",
    "  sum_e = 0\n",
    "  # Находим экспоненту каждого элемента массива и сумму этих экспонент\n",
    "  for i in range(len(x)):\n",
    "    e_x.append(np.exp(x[i]))\n",
    "    sum_e += e_x[i]\n",
    "  # Находим вероятности\n",
    "  probability = []\n",
    "  s=0\n",
    "  for i in range(len(e_x)):\n",
    "    probability.append(round((e_x[i] / sum_e), 2))\n",
    "    s+=probability[i]\n",
    "\n",
    "  return probability"
   ],
   "metadata": {
    "collapsed": false,
    "ExecuteTime": {
     "start_time": "2025-03-10T22:11:36.416439Z",
     "end_time": "2025-03-10T22:11:36.691320Z"
    }
   }
  },
  {
   "cell_type": "code",
   "execution_count": 42,
   "outputs": [
    {
     "name": "stdout",
     "output_type": "stream",
     "text": [
      "Все тесты для функции precision прошли успешно!\n"
     ]
    }
   ],
   "source": [
    "def test_softmax():\n",
    "  a_logits = [1, 2, 3, 4]\n",
    "  b_logits = [10, 15, 9, 12]\n",
    "  c_logits = [50, 55, 58, 52]\n",
    "  try:\n",
    "    assert softmax(a_logits) == [0.03, 0.09, 0.24, 0.64], \"первый провален\" # округлить в тест, а не в функции\n",
    "    assert softmax(b_logits) == [0.01, 0.94, 0, 0.05], \"второй провален\"\n",
    "    assert softmax(c_logits) == [0, 0.05, 0.95, 0], \"третий провален\"\n",
    "    print(\"Все тесты для функции precision прошли успешно!\")\n",
    "  except AssertionError as e:\n",
    "    print(f\"Тест провален: {e}\")\n",
    "\n",
    "test_softmax()"
   ],
   "metadata": {
    "collapsed": false,
    "ExecuteTime": {
     "start_time": "2025-03-10T22:11:36.421900Z",
     "end_time": "2025-03-10T22:11:36.692321Z"
    }
   }
  },
  {
   "cell_type": "markdown",
   "source": [
    "### Линейный коэффициент корреляции"
   ],
   "metadata": {
    "collapsed": false
   }
  },
  {
   "cell_type": "markdown",
   "source": [
    "\n",
    "$$\n",
    "r = \\frac{n(\\sum XY) - (\\sum X)(\\sum Y)}{\\sqrt{[n \\sum X^2 - (\\sum X)^2][n \\sum Y^2 - (\\sum Y)^2]}}\n",
    "$$\n",
    "\n",
    "Где:\n",
    "- $\\( r \\)$ — коэффициент корреляции,\n",
    "- $\\( n \\)$ — количество наблюдений,\n",
    "- $\\( X \\)$ и $\\( Y \\)$ — значения двух переменных.\n"
   ],
   "metadata": {
    "collapsed": false
   }
  },
  {
   "cell_type": "code",
   "execution_count": 43,
   "outputs": [],
   "source": [
    "def coef_correl(x, y):\n",
    "  \"\"\"\n",
    "    Вычисление линейного коэффициента корреляции\n",
    "\n",
    "    :param x: Массив\n",
    "    :type x: list\n",
    "    :param y: Массив\n",
    "    :type y: list\n",
    "    :return: Линейный коэффициент корреляции\n",
    "    :rtype: list\n",
    "  \"\"\"\n",
    "  sum_x = 0\n",
    "  sum_y = 0\n",
    "  sum_xy = 0\n",
    "  sum_x_2 = 0\n",
    "  sum_y_2 = 0\n",
    "\n",
    "  for i in range(len(x)):\n",
    "    sum_x += x[i]\n",
    "    sum_y += y[i]\n",
    "    sum_xy += x[i] * y[i]\n",
    "    sum_x_2 += x[i] ** 2\n",
    "    sum_y_2 += y[i] ** 2\n",
    "\n",
    "  numerator = len(x) * sum_xy - sum_x * sum_y\n",
    "  denominator = np.sqrt( (len(x) * sum_x_2 - sum_x**2) * (len(x) * sum_y_2 - sum_y**2) )\n",
    "\n",
    "  return numerator/denominator"
   ],
   "metadata": {
    "collapsed": false,
    "ExecuteTime": {
     "start_time": "2025-03-10T22:11:36.435767Z",
     "end_time": "2025-03-10T22:11:36.694321Z"
    }
   }
  },
  {
   "cell_type": "code",
   "execution_count": 44,
   "outputs": [
    {
     "name": "stdout",
     "output_type": "stream",
     "text": [
      "Все тесты для функции coef_correl прошли успешно!\n"
     ]
    }
   ],
   "source": [
    "def test_coef_correl():\n",
    "  a_X = [2, 4, 6, 8]\n",
    "  a_Y = [60, 70, 80, 90]\n",
    "  b_X = [0, 2, 4, 6]\n",
    "  b_Y = [90, 80, 70, 60]\n",
    "  c_X = [1, 3, 5, 7]\n",
    "  c_Y = [70, 80, 65, 75]\n",
    "  try:\n",
    "    assert coef_correl(a_X, a_Y) == 1, \"первый провален\"\n",
    "    assert coef_correl(b_X, b_Y) == -1, \"второй провален\"\n",
    "    assert coef_correl(c_X, c_Y) == 0, \"третий провален\"\n",
    "    print(\"Все тесты для функции coef_correl прошли успешно!\")\n",
    "  except AssertionError as e:\n",
    "    print(f\"Тест провален: {e}\")\n",
    "\n",
    "test_coef_correl()"
   ],
   "metadata": {
    "collapsed": false,
    "ExecuteTime": {
     "start_time": "2025-03-10T22:11:36.441762Z",
     "end_time": "2025-03-10T22:11:36.694321Z"
    }
   }
  },
  {
   "cell_type": "markdown",
   "source": [
    "### Функция для вычисления предсказания для нескольких объектов по заданному коэффициентами уравнения линейной регрессии"
   ],
   "metadata": {
    "collapsed": false
   }
  },
  {
   "cell_type": "markdown",
   "source": [
    "Уравнение линейной регрессии\n",
    "$$\n",
    "\\hat{y} = X \\cdot w + b\n",
    "$$\n",
    "\n",
    "Где:\n",
    "- $\\hat{y}$ — предсказанные значения (вектор размера $n × 1$, где $n$ — количество объектов),\n",
    "- $X$ — матрица признаков (размера $n × m$, где $m$ — количество признаков),\n",
    "- $w$ — вектор коэффициентов (вес признаков, размера $\\(m \\times 1\\))$,\n",
    "- $b$ — свободный член (скаляр).\n",
    "добавить запись через сумму произведений"
   ],
   "metadata": {
    "collapsed": false
   }
  },
  {
   "cell_type": "code",
   "execution_count": 45,
   "outputs": [],
   "source": [
    "# функция\n",
    "def predict(X, weights, bias):\n",
    "  \"\"\"\n",
    "  Вычисляет предсказанные значения для линейной регрессии.\n",
    "\n",
    "  :param x: Матрица признаков, где n — количество объектов, m — количество признаков\n",
    "  :type x: list, форма (n, m)\n",
    "  :param weights: Вектор коэффициентов\n",
    "  :type weights: list, форма (m,)\n",
    "  :param bias: Свободный член\n",
    "  :type bias: float\n",
    "\n",
    "  Возвращает:\n",
    "  :return: Вектор предсказанных значений\n",
    "  :rtype: list\n",
    "\n",
    "  \"\"\"\n",
    "\n",
    "  predictions = []\n",
    "  for x in X:  # Проходим по каждому объекту\n",
    "    y = 0\n",
    "    for i in range(len(weights)):  # Проходим по каждому коэффициенту\n",
    "        y += weights[i] * x[i]  # Умножаем коэффициент на признак и добавляем к y\n",
    "    y += bias  # Добавляем свободный член\n",
    "    predictions.append(y)  # Сохраняем результат\n",
    "  return predictions\n"
   ],
   "metadata": {
    "collapsed": false,
    "ExecuteTime": {
     "start_time": "2025-03-10T22:11:36.453424Z",
     "end_time": "2025-03-10T22:11:36.696322Z"
    }
   }
  },
  {
   "cell_type": "code",
   "execution_count": 46,
   "outputs": [
    {
     "ename": "IndentationError",
     "evalue": "unexpected indent (1025077136.py, line 10)",
     "output_type": "error",
     "traceback": [
      "\u001B[1;36m  Cell \u001B[1;32mIn[46], line 10\u001B[1;36m\u001B[0m\n\u001B[1;33m    try:\u001B[0m\n\u001B[1;37m    ^\u001B[0m\n\u001B[1;31mIndentationError\u001B[0m\u001B[1;31m:\u001B[0m unexpected indent\n"
     ]
    }
   ],
   "source": [
    "def test_predict():\n",
    "  a_X = [[1, 2], [3, 4], [5, 6]]  # 3 объекта, 2 признака\n",
    "  a_weights = [0.5, -0.5]  # Вектор коэффициентов\n",
    "  a_bias = 1.0  # Свободный член\n",
    "  a_expected_output = [0.5, 0.5, 0.5]  # Ожидаемый результат\n",
    "  X = [[100, 3], [150, 4]]  # Признаки для двух объектов\n",
    "weights = [2, 10]          # Коэффициенты w1, w2\n",
    "bias = 5  # Вывод: [235, 325]\n",
    "\n",
    "  try:\n",
    "      # Используем np.allclose для сравнения массивов с учетом погрешности\n",
    "      assert np.allclose(predict(X, w, b), expected_output), \"первый провален\"\n",
    "      print(\"Все тесты для функции predict прошли успешно!\")\n",
    "\n",
    "  except AssertionError as e:\n",
    "    print(f\"Тест провален: {e}\")\n",
    "\n",
    "test_predict()"
   ],
   "metadata": {
    "collapsed": false,
    "ExecuteTime": {
     "start_time": "2025-03-10T18:22:59.599772Z",
     "end_time": "2025-03-10T18:22:59.628293Z"
    }
   }
  },
  {
   "cell_type": "markdown",
   "source": [],
   "metadata": {
    "collapsed": false
   }
  }
 ],
 "metadata": {
  "kernelspec": {
   "display_name": "Python 3",
   "language": "python",
   "name": "python3"
  },
  "language_info": {
   "codemirror_mode": {
    "name": "ipython",
    "version": 2
   },
   "file_extension": ".py",
   "mimetype": "text/x-python",
   "name": "python",
   "nbconvert_exporter": "python",
   "pygments_lexer": "ipython2",
   "version": "2.7.6"
  },
  "colab": {
   "provenance": []
  }
 },
 "nbformat": 4,
 "nbformat_minor": 0
}
