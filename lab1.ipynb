{
 "cells": [
  {
   "cell_type": "code",
   "execution_count": 1,
   "outputs": [],
   "source": [
    "from sklearn.datasets import make_regression"
   ],
   "metadata": {
    "collapsed": false,
    "ExecuteTime": {
     "start_time": "2025-02-14T12:22:27.540030Z",
     "end_time": "2025-02-14T12:22:28.711067Z"
    }
   }
  },
  {
   "cell_type": "code",
   "execution_count": 2,
   "metadata": {
    "collapsed": true,
    "ExecuteTime": {
     "start_time": "2025-02-14T12:23:19.138276Z",
     "end_time": "2025-02-14T12:23:19.144396Z"
    }
   },
   "outputs": [],
   "source": [
    "X,y = make_regression( n_samples = 200, n_features= 3, n_informative=2, random_state = 8972)"
   ]
  },
  {
   "cell_type": "code",
   "execution_count": 3,
   "outputs": [],
   "source": [
    "import pandas as pd"
   ],
   "metadata": {
    "collapsed": false,
    "ExecuteTime": {
     "start_time": "2025-02-14T12:24:43.833387Z",
     "end_time": "2025-02-14T12:24:44.474602Z"
    }
   }
  },
  {
   "cell_type": "code",
   "execution_count": 4,
   "outputs": [
    {
     "data": {
      "text/plain": "           x1        x2        x3          y\n0    1.363835 -0.696597  2.236552  63.208775\n1    0.714758 -1.788416  0.387438 -27.541305\n2   -0.451512  0.049145  1.033726  37.779946\n3    0.737150 -0.787907  0.586341   2.601221\n4   -0.759073 -0.218770 -0.064967  -7.352217\n..        ...       ...       ...        ...\n195 -2.333271 -0.825133  0.085128 -16.025993\n196 -0.330360 -0.136830  0.743428  23.196612\n197 -0.999492 -0.795598 -0.267597 -27.848470\n198  0.742760  0.055143  0.626199  23.471490\n199  0.089737 -0.052051  0.250434   7.676601\n\n[200 rows x 4 columns]",
      "text/html": "<div>\n<style scoped>\n    .dataframe tbody tr th:only-of-type {\n        vertical-align: middle;\n    }\n\n    .dataframe tbody tr th {\n        vertical-align: top;\n    }\n\n    .dataframe thead th {\n        text-align: right;\n    }\n</style>\n<table border=\"1\" class=\"dataframe\">\n  <thead>\n    <tr style=\"text-align: right;\">\n      <th></th>\n      <th>x1</th>\n      <th>x2</th>\n      <th>x3</th>\n      <th>y</th>\n    </tr>\n  </thead>\n  <tbody>\n    <tr>\n      <th>0</th>\n      <td>1.363835</td>\n      <td>-0.696597</td>\n      <td>2.236552</td>\n      <td>63.208775</td>\n    </tr>\n    <tr>\n      <th>1</th>\n      <td>0.714758</td>\n      <td>-1.788416</td>\n      <td>0.387438</td>\n      <td>-27.541305</td>\n    </tr>\n    <tr>\n      <th>2</th>\n      <td>-0.451512</td>\n      <td>0.049145</td>\n      <td>1.033726</td>\n      <td>37.779946</td>\n    </tr>\n    <tr>\n      <th>3</th>\n      <td>0.737150</td>\n      <td>-0.787907</td>\n      <td>0.586341</td>\n      <td>2.601221</td>\n    </tr>\n    <tr>\n      <th>4</th>\n      <td>-0.759073</td>\n      <td>-0.218770</td>\n      <td>-0.064967</td>\n      <td>-7.352217</td>\n    </tr>\n    <tr>\n      <th>...</th>\n      <td>...</td>\n      <td>...</td>\n      <td>...</td>\n      <td>...</td>\n    </tr>\n    <tr>\n      <th>195</th>\n      <td>-2.333271</td>\n      <td>-0.825133</td>\n      <td>0.085128</td>\n      <td>-16.025993</td>\n    </tr>\n    <tr>\n      <th>196</th>\n      <td>-0.330360</td>\n      <td>-0.136830</td>\n      <td>0.743428</td>\n      <td>23.196612</td>\n    </tr>\n    <tr>\n      <th>197</th>\n      <td>-0.999492</td>\n      <td>-0.795598</td>\n      <td>-0.267597</td>\n      <td>-27.848470</td>\n    </tr>\n    <tr>\n      <th>198</th>\n      <td>0.742760</td>\n      <td>0.055143</td>\n      <td>0.626199</td>\n      <td>23.471490</td>\n    </tr>\n    <tr>\n      <th>199</th>\n      <td>0.089737</td>\n      <td>-0.052051</td>\n      <td>0.250434</td>\n      <td>7.676601</td>\n    </tr>\n  </tbody>\n</table>\n<p>200 rows × 4 columns</p>\n</div>"
     },
     "execution_count": 4,
     "metadata": {},
     "output_type": "execute_result"
    }
   ],
   "source": [
    "data = pd.DataFrame( { 'x1':X[:,0] ,'x2':X[:,1], 'x3':X[:,2], 'y':y } )\n",
    "data"
   ],
   "metadata": {
    "collapsed": false,
    "ExecuteTime": {
     "start_time": "2025-02-14T12:24:47.249330Z",
     "end_time": "2025-02-14T12:24:47.289021Z"
    }
   }
  },
  {
   "cell_type": "code",
   "execution_count": null,
   "outputs": [],
   "source": [],
   "metadata": {
    "collapsed": false
   }
  }
 ],
 "metadata": {
  "kernelspec": {
   "display_name": "Python 3",
   "language": "python",
   "name": "python3"
  },
  "language_info": {
   "codemirror_mode": {
    "name": "ipython",
    "version": 2
   },
   "file_extension": ".py",
   "mimetype": "text/x-python",
   "name": "python",
   "nbconvert_exporter": "python",
   "pygments_lexer": "ipython2",
   "version": "2.7.6"
  }
 },
 "nbformat": 4,
 "nbformat_minor": 0
}
